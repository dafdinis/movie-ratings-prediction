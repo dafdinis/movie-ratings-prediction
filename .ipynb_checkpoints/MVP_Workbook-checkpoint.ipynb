{
 "cells": [
  {
   "cell_type": "markdown",
   "metadata": {},
   "source": [
    "# Regression Open-Ended Project"
   ]
  },
  {
   "cell_type": "markdown",
   "metadata": {
    "collapsed": true
   },
   "source": [
    "------------------"
   ]
  },
  {
   "cell_type": "markdown",
   "metadata": {},
   "source": [
    "# Define Question / Hypothesis"
   ]
  },
  {
   "cell_type": "markdown",
   "metadata": {
    "collapsed": true
   },
   "source": [
    "**Use publicly available data to generate Roger Ebert-esque ratings for recent movies.**"
   ]
  },
  {
   "cell_type": "markdown",
   "metadata": {},
   "source": [
    "# Obtain Data via Scraping and APIs\n",
    "\n",
    "- requests - fetch HTML pages\n",
    "- BeautifulSoup: web scraping\n",
    "- time: to add in a sleep delay when scraping\n",
    "- tqdm: a nifty tool to show progress bar\n",
    "- pandas: for data frames\n",
    "- pickle: to pickle things"
   ]
  },
  {
   "cell_type": "code",
   "execution_count": 18,
   "metadata": {
    "collapsed": false
   },
   "outputs": [],
   "source": [
    "import requests\n",
    "from bs4 import BeautifulSoup\n",
    "import pandas as pd\n",
    "import numpy as np\n",
    "import time\n",
    "import tqdm\n",
    "import pickle\n",
    "import matplotlib.pyplot as plt\n",
    "%matplotlib inline"
   ]
  },
  {
   "cell_type": "markdown",
   "metadata": {},
   "source": [
    "### Add Scraping for Infinite Scroll"
   ]
  },
  {
   "cell_type": "code",
   "execution_count": 3,
   "metadata": {
    "collapsed": true
   },
   "outputs": [],
   "source": [
    "soup = BeautifulSoup(open('ebert.html'), 'lxml')\n",
    "all_reviews = soup('figure', {'class':'movie review'})"
   ]
  },
  {
   "cell_type": "code",
   "execution_count": 4,
   "metadata": {
    "collapsed": true
   },
   "outputs": [],
   "source": [
    "def scrape_eberts_review(review_set):\n",
    "    \"\"\"\n",
    "    Parses through webpage with list of movies and returns DataFrame.\n",
    "    :review_set = BeautifulSoup object\n",
    "    \"\"\"\n",
    "    review_list = list()\n",
    "    \n",
    "    for movie in review_set:\n",
    "        url = movie.a.get('href')\n",
    "        title = movie.find_all('a')[1].text\n",
    "        stars = len(movie.find_all('i', {'class':'icon-star-full'})) + 0.5 * len(movie.find_all('i', {'class':'icon-star-half'}))\n",
    "        \n",
    "        try:\n",
    "            year = movie.find('span', {'class':'release-year'}).text[1:-1]\n",
    "        except:\n",
    "            year = ''\n",
    "\n",
    "        review_list.append([title, stars, year, url])\n",
    "    \n",
    "    df = pd.DataFrame(review_list, columns = ['Title', 'EbertStars', 'Year', 'URL'])\n",
    "    return df"
   ]
  },
  {
   "cell_type": "code",
   "execution_count": 5,
   "metadata": {
    "collapsed": true
   },
   "outputs": [],
   "source": [
    "review_df = scrape_eberts_review(all_reviews)"
   ]
  },
  {
   "cell_type": "code",
   "execution_count": 6,
   "metadata": {
    "collapsed": false
   },
   "outputs": [
    {
     "data": {
      "text/html": [
       "<div>\n",
       "<table border=\"1\" class=\"dataframe\">\n",
       "  <thead>\n",
       "    <tr style=\"text-align: right;\">\n",
       "      <th></th>\n",
       "      <th>Title</th>\n",
       "      <th>EbertStars</th>\n",
       "      <th>Year</th>\n",
       "      <th>URL</th>\n",
       "    </tr>\n",
       "  </thead>\n",
       "  <tbody>\n",
       "    <tr>\n",
       "      <th>0</th>\n",
       "      <td>Big Little Lies</td>\n",
       "      <td>3.5</td>\n",
       "      <td>2017</td>\n",
       "      <td>http://www.rogerebert.com/reviews/big-little-l...</td>\n",
       "    </tr>\n",
       "    <tr>\n",
       "      <th>1</th>\n",
       "      <td>A Cure for Wellness</td>\n",
       "      <td>2.0</td>\n",
       "      <td>2017</td>\n",
       "      <td>http://www.rogerebert.com/reviews/a-cure-for-w...</td>\n",
       "    </tr>\n",
       "    <tr>\n",
       "      <th>2</th>\n",
       "      <td>A United Kingdom</td>\n",
       "      <td>2.5</td>\n",
       "      <td>2017</td>\n",
       "      <td>http://www.rogerebert.com/reviews/a-united-kin...</td>\n",
       "    </tr>\n",
       "    <tr>\n",
       "      <th>3</th>\n",
       "      <td>Fifty Shades Darker</td>\n",
       "      <td>2.0</td>\n",
       "      <td>2017</td>\n",
       "      <td>http://www.rogerebert.com/reviews/fifty-shades...</td>\n",
       "    </tr>\n",
       "    <tr>\n",
       "      <th>4</th>\n",
       "      <td>Kedi</td>\n",
       "      <td>4.0</td>\n",
       "      <td>2017</td>\n",
       "      <td>http://www.rogerebert.com/reviews/kedi-2017</td>\n",
       "    </tr>\n",
       "  </tbody>\n",
       "</table>\n",
       "</div>"
      ],
      "text/plain": [
       "                 Title  EbertStars  Year  \\\n",
       "0      Big Little Lies         3.5  2017   \n",
       "1  A Cure for Wellness         2.0  2017   \n",
       "2     A United Kingdom         2.5  2017   \n",
       "3  Fifty Shades Darker         2.0  2017   \n",
       "4                 Kedi         4.0  2017   \n",
       "\n",
       "                                                 URL  \n",
       "0  http://www.rogerebert.com/reviews/big-little-l...  \n",
       "1  http://www.rogerebert.com/reviews/a-cure-for-w...  \n",
       "2  http://www.rogerebert.com/reviews/a-united-kin...  \n",
       "3  http://www.rogerebert.com/reviews/fifty-shades...  \n",
       "4        http://www.rogerebert.com/reviews/kedi-2017  "
      ]
     },
     "execution_count": 6,
     "metadata": {},
     "output_type": "execute_result"
    }
   ],
   "source": [
    "review_df.head()"
   ]
  },
  {
   "cell_type": "code",
   "execution_count": 7,
   "metadata": {
    "collapsed": true
   },
   "outputs": [],
   "source": [
    "def scrape_webpage(link):\n",
    "    \"\"\"\n",
    "    Parses each individual review page and returns list of key attributes.\n",
    "    :link = URL for review\n",
    "    \"\"\"\n",
    "    webpage = requests.get(link).text\n",
    "    soup = BeautifulSoup(webpage, 'lxml')\n",
    "\n",
    "    try:\n",
    "        mpaa = soup.find('p', {'class':'mpaa-rating'}).strong.text[6:]\n",
    "    except:\n",
    "        mpaa = ''\n",
    "\n",
    "    try: \n",
    "        runningtime = int(soup.find('p', {'class':'running-time'}).strong.text[:3].strip())\n",
    "    except:\n",
    "        runningtime = ''\n",
    "\n",
    "    try:\n",
    "        genres = soup.find('p', {'class':'genres'}).strong.text.replace(',', '').split()\n",
    "    except:\n",
    "        genres = []\n",
    "\n",
    "    try:\n",
    "        reviewbody = ' '.join([paragraph.text for paragraph in soup.find('div', {'itemprop':'reviewBody'}).find_all('p')])\n",
    "    except:\n",
    "        reviewbody = ''\n",
    "    \n",
    "    return [link, mpaa, runningtime, reviewbody]"
   ]
  },
  {
   "cell_type": "code",
   "execution_count": 8,
   "metadata": {
    "collapsed": false
   },
   "outputs": [
    {
     "name": "stderr",
     "output_type": "stream",
     "text": [
      "100%|██████████| 168/168 [02:04<00:00,  1.31it/s]\n"
     ]
    }
   ],
   "source": [
    "scraped_list = list()\n",
    "\n",
    "for movie in tqdm.tqdm(review_df['URL']):\n",
    "    scraped_list.append(scrape_webpage(movie))\n",
    "    time.sleep(0.5)\n",
    "\n",
    "review_content = pd.DataFrame(scraped_list, columns = ['URL', 'Rating', 'Runtime', 'Review'])"
   ]
  },
  {
   "cell_type": "code",
   "execution_count": 9,
   "metadata": {
    "collapsed": false
   },
   "outputs": [
    {
     "data": {
      "text/html": [
       "<div>\n",
       "<table border=\"1\" class=\"dataframe\">\n",
       "  <thead>\n",
       "    <tr style=\"text-align: right;\">\n",
       "      <th></th>\n",
       "      <th>URL</th>\n",
       "      <th>Rating</th>\n",
       "      <th>Runtime</th>\n",
       "      <th>Review</th>\n",
       "    </tr>\n",
       "  </thead>\n",
       "  <tbody>\n",
       "    <tr>\n",
       "      <th>0</th>\n",
       "      <td>http://www.rogerebert.com/reviews/big-little-l...</td>\n",
       "      <td>NR</td>\n",
       "      <td>420</td>\n",
       "      <td>HBO’s excellent “Big Little Lies,” based on th...</td>\n",
       "    </tr>\n",
       "    <tr>\n",
       "      <th>1</th>\n",
       "      <td>http://www.rogerebert.com/reviews/a-cure-for-w...</td>\n",
       "      <td>R</td>\n",
       "      <td>146</td>\n",
       "      <td>I keep forgetting the title of “A Cure for Wel...</td>\n",
       "    </tr>\n",
       "    <tr>\n",
       "      <th>2</th>\n",
       "      <td>http://www.rogerebert.com/reviews/a-united-kin...</td>\n",
       "      <td>PG-13</td>\n",
       "      <td>111</td>\n",
       "      <td>For a movie about two people who loved each ot...</td>\n",
       "    </tr>\n",
       "    <tr>\n",
       "      <th>3</th>\n",
       "      <td>http://www.rogerebert.com/reviews/fifty-shades...</td>\n",
       "      <td>R</td>\n",
       "      <td>118</td>\n",
       "      <td>Who would have guessed that, when he was a boy...</td>\n",
       "    </tr>\n",
       "    <tr>\n",
       "      <th>4</th>\n",
       "      <td>http://www.rogerebert.com/reviews/kedi-2017</td>\n",
       "      <td>NR</td>\n",
       "      <td></td>\n",
       "      <td>The people interviewed for \"Kedi,\" Ceyda Torun...</td>\n",
       "    </tr>\n",
       "  </tbody>\n",
       "</table>\n",
       "</div>"
      ],
      "text/plain": [
       "                                                 URL Rating Runtime  \\\n",
       "0  http://www.rogerebert.com/reviews/big-little-l...     NR     420   \n",
       "1  http://www.rogerebert.com/reviews/a-cure-for-w...      R     146   \n",
       "2  http://www.rogerebert.com/reviews/a-united-kin...  PG-13     111   \n",
       "3  http://www.rogerebert.com/reviews/fifty-shades...      R     118   \n",
       "4        http://www.rogerebert.com/reviews/kedi-2017     NR           \n",
       "\n",
       "                                              Review  \n",
       "0  HBO’s excellent “Big Little Lies,” based on th...  \n",
       "1  I keep forgetting the title of “A Cure for Wel...  \n",
       "2  For a movie about two people who loved each ot...  \n",
       "3  Who would have guessed that, when he was a boy...  \n",
       "4  The people interviewed for \"Kedi,\" Ceyda Torun...  "
      ]
     },
     "execution_count": 9,
     "metadata": {},
     "output_type": "execute_result"
    }
   ],
   "source": [
    "review_content.head()"
   ]
  },
  {
   "cell_type": "code",
   "execution_count": 10,
   "metadata": {
    "collapsed": true
   },
   "outputs": [],
   "source": [
    "pickle.dump(review_df, open('data/review_df.pkl', 'wb'))\n",
    "pickle.dump(review_content, open('data/review_content.pkl', 'wb'))"
   ]
  },
  {
   "cell_type": "code",
   "execution_count": 19,
   "metadata": {
    "collapsed": false
   },
   "outputs": [],
   "source": [
    "review_df = pickle.load(open('data/review_df.pkl', 'rb'))\n",
    "review_content = pickle.load(open('data/review_content.pkl', 'rb'))"
   ]
  },
  {
   "cell_type": "code",
   "execution_count": 20,
   "metadata": {
    "collapsed": true
   },
   "outputs": [],
   "source": [
    "combined_df = pd.merge(review_df, review_content, how='left', on='URL')"
   ]
  },
  {
   "cell_type": "code",
   "execution_count": 21,
   "metadata": {
    "collapsed": false
   },
   "outputs": [
    {
     "data": {
      "text/html": [
       "<div>\n",
       "<table border=\"1\" class=\"dataframe\">\n",
       "  <thead>\n",
       "    <tr style=\"text-align: right;\">\n",
       "      <th></th>\n",
       "      <th>Title</th>\n",
       "      <th>EbertStars</th>\n",
       "      <th>Year</th>\n",
       "      <th>URL</th>\n",
       "      <th>Rating</th>\n",
       "      <th>Runtime</th>\n",
       "      <th>Review</th>\n",
       "    </tr>\n",
       "  </thead>\n",
       "  <tbody>\n",
       "    <tr>\n",
       "      <th>0</th>\n",
       "      <td>A Cure for Wellness</td>\n",
       "      <td>2.0</td>\n",
       "      <td>2017</td>\n",
       "      <td>/reviews/a-cure-for-wellness-2017</td>\n",
       "      <td>NaN</td>\n",
       "      <td>NaN</td>\n",
       "      <td>NaN</td>\n",
       "    </tr>\n",
       "    <tr>\n",
       "      <th>1</th>\n",
       "      <td>Big Little Lies</td>\n",
       "      <td>3.5</td>\n",
       "      <td>2017</td>\n",
       "      <td>/reviews/big-little-lies-2017</td>\n",
       "      <td>NaN</td>\n",
       "      <td>NaN</td>\n",
       "      <td>NaN</td>\n",
       "    </tr>\n",
       "    <tr>\n",
       "      <th>2</th>\n",
       "      <td>The Great Wall</td>\n",
       "      <td>3.0</td>\n",
       "      <td>2017</td>\n",
       "      <td>/reviews/the-great-wall-2017</td>\n",
       "      <td>NaN</td>\n",
       "      <td>NaN</td>\n",
       "      <td>NaN</td>\n",
       "    </tr>\n",
       "    <tr>\n",
       "      <th>3</th>\n",
       "      <td>American Fable</td>\n",
       "      <td>3.0</td>\n",
       "      <td>2017</td>\n",
       "      <td>/reviews/american-fable-2017</td>\n",
       "      <td>NaN</td>\n",
       "      <td>NaN</td>\n",
       "      <td>NaN</td>\n",
       "    </tr>\n",
       "    <tr>\n",
       "      <th>4</th>\n",
       "      <td>Lovesong</td>\n",
       "      <td>3.0</td>\n",
       "      <td>2017</td>\n",
       "      <td>/reviews/lovesong-2017</td>\n",
       "      <td>NaN</td>\n",
       "      <td>NaN</td>\n",
       "      <td>NaN</td>\n",
       "    </tr>\n",
       "  </tbody>\n",
       "</table>\n",
       "</div>"
      ],
      "text/plain": [
       "                 Title  EbertStars  Year                                URL  \\\n",
       "0  A Cure for Wellness         2.0  2017  /reviews/a-cure-for-wellness-2017   \n",
       "1      Big Little Lies         3.5  2017      /reviews/big-little-lies-2017   \n",
       "2       The Great Wall         3.0  2017       /reviews/the-great-wall-2017   \n",
       "3       American Fable         3.0  2017       /reviews/american-fable-2017   \n",
       "4             Lovesong         3.0  2017             /reviews/lovesong-2017   \n",
       "\n",
       "  Rating Runtime Review  \n",
       "0    NaN     NaN    NaN  \n",
       "1    NaN     NaN    NaN  \n",
       "2    NaN     NaN    NaN  \n",
       "3    NaN     NaN    NaN  \n",
       "4    NaN     NaN    NaN  "
      ]
     },
     "execution_count": 21,
     "metadata": {},
     "output_type": "execute_result"
    }
   ],
   "source": [
    "combined_df.head()"
   ]
  },
  {
   "cell_type": "markdown",
   "metadata": {},
   "source": [
    "# Process and Clean Data\n",
    "\n",
    "- identify types of variables"
   ]
  },
  {
   "cell_type": "markdown",
   "metadata": {},
   "source": [
    "Features from IMDB - [IMDB.py](http://imdbpy.sourceforge.net/)\n",
    "- genres\n",
    "- rating\n",
    "- number of votes\n",
    "- country\n",
    "- awards\n",
    "- metascore\n",
    "- number of reviews (user / critic)"
   ]
  },
  {
   "cell_type": "code",
   "execution_count": 22,
   "metadata": {
    "collapsed": true
   },
   "outputs": [],
   "source": [
    "df_rating = pd.get_dummies(combined_df['Rating'])"
   ]
  },
  {
   "cell_type": "code",
   "execution_count": 23,
   "metadata": {
    "collapsed": true
   },
   "outputs": [],
   "source": [
    "new_df = pd.concat([combined_df, df_rating], axis=1)"
   ]
  },
  {
   "cell_type": "code",
   "execution_count": 24,
   "metadata": {
    "collapsed": false
   },
   "outputs": [
    {
     "data": {
      "text/html": [
       "<div>\n",
       "<table border=\"1\" class=\"dataframe\">\n",
       "  <thead>\n",
       "    <tr style=\"text-align: right;\">\n",
       "      <th></th>\n",
       "      <th>Title</th>\n",
       "      <th>EbertStars</th>\n",
       "      <th>Year</th>\n",
       "      <th>URL</th>\n",
       "      <th>Rating</th>\n",
       "      <th>Runtime</th>\n",
       "      <th>Review</th>\n",
       "    </tr>\n",
       "  </thead>\n",
       "  <tbody>\n",
       "    <tr>\n",
       "      <th>0</th>\n",
       "      <td>A Cure for Wellness</td>\n",
       "      <td>2.0</td>\n",
       "      <td>2017</td>\n",
       "      <td>/reviews/a-cure-for-wellness-2017</td>\n",
       "      <td>NaN</td>\n",
       "      <td>NaN</td>\n",
       "      <td>NaN</td>\n",
       "    </tr>\n",
       "    <tr>\n",
       "      <th>1</th>\n",
       "      <td>Big Little Lies</td>\n",
       "      <td>3.5</td>\n",
       "      <td>2017</td>\n",
       "      <td>/reviews/big-little-lies-2017</td>\n",
       "      <td>NaN</td>\n",
       "      <td>NaN</td>\n",
       "      <td>NaN</td>\n",
       "    </tr>\n",
       "    <tr>\n",
       "      <th>2</th>\n",
       "      <td>The Great Wall</td>\n",
       "      <td>3.0</td>\n",
       "      <td>2017</td>\n",
       "      <td>/reviews/the-great-wall-2017</td>\n",
       "      <td>NaN</td>\n",
       "      <td>NaN</td>\n",
       "      <td>NaN</td>\n",
       "    </tr>\n",
       "    <tr>\n",
       "      <th>3</th>\n",
       "      <td>American Fable</td>\n",
       "      <td>3.0</td>\n",
       "      <td>2017</td>\n",
       "      <td>/reviews/american-fable-2017</td>\n",
       "      <td>NaN</td>\n",
       "      <td>NaN</td>\n",
       "      <td>NaN</td>\n",
       "    </tr>\n",
       "    <tr>\n",
       "      <th>4</th>\n",
       "      <td>Lovesong</td>\n",
       "      <td>3.0</td>\n",
       "      <td>2017</td>\n",
       "      <td>/reviews/lovesong-2017</td>\n",
       "      <td>NaN</td>\n",
       "      <td>NaN</td>\n",
       "      <td>NaN</td>\n",
       "    </tr>\n",
       "  </tbody>\n",
       "</table>\n",
       "</div>"
      ],
      "text/plain": [
       "                 Title  EbertStars  Year                                URL  \\\n",
       "0  A Cure for Wellness         2.0  2017  /reviews/a-cure-for-wellness-2017   \n",
       "1      Big Little Lies         3.5  2017      /reviews/big-little-lies-2017   \n",
       "2       The Great Wall         3.0  2017       /reviews/the-great-wall-2017   \n",
       "3       American Fable         3.0  2017       /reviews/american-fable-2017   \n",
       "4             Lovesong         3.0  2017             /reviews/lovesong-2017   \n",
       "\n",
       "  Rating Runtime Review  \n",
       "0    NaN     NaN    NaN  \n",
       "1    NaN     NaN    NaN  \n",
       "2    NaN     NaN    NaN  \n",
       "3    NaN     NaN    NaN  \n",
       "4    NaN     NaN    NaN  "
      ]
     },
     "execution_count": 24,
     "metadata": {},
     "output_type": "execute_result"
    }
   ],
   "source": [
    "new_df.head()"
   ]
  },
  {
   "cell_type": "code",
   "execution_count": 25,
   "metadata": {
    "collapsed": false
   },
   "outputs": [],
   "source": [
    "def convert_year(row):\n",
    "    try:\n",
    "        year = int(row['Year'])\n",
    "        return year\n",
    "    except:\n",
    "        pass\n",
    "    \n",
    "def convert_runtime(row):\n",
    "    try:\n",
    "        runtime = int(row['Runtime'])\n",
    "        return runtime\n",
    "    except:\n",
    "        pass"
   ]
  },
  {
   "cell_type": "code",
   "execution_count": 26,
   "metadata": {
    "collapsed": false
   },
   "outputs": [],
   "source": [
    "new_df['year'] = new_df.apply(lambda x: convert_year(x), 1)"
   ]
  },
  {
   "cell_type": "code",
   "execution_count": 27,
   "metadata": {
    "collapsed": true
   },
   "outputs": [],
   "source": [
    "new_df['runtime'] = new_df.apply(lambda x: convert_runtime(x), 1)"
   ]
  },
  {
   "cell_type": "code",
   "execution_count": 28,
   "metadata": {
    "collapsed": false
   },
   "outputs": [
    {
     "data": {
      "text/plain": [
       "Title          object\n",
       "EbertStars    float64\n",
       "Year           object\n",
       "URL            object\n",
       "Rating         object\n",
       "Runtime        object\n",
       "Review         object\n",
       "year          float64\n",
       "runtime        object\n",
       "dtype: object"
      ]
     },
     "execution_count": 28,
     "metadata": {},
     "output_type": "execute_result"
    }
   ],
   "source": [
    "new_df.dtypes"
   ]
  },
  {
   "cell_type": "code",
   "execution_count": 29,
   "metadata": {
    "collapsed": false
   },
   "outputs": [
    {
     "data": {
      "text/plain": [
       "0    3.0\n",
       "dtype: float64"
      ]
     },
     "execution_count": 29,
     "metadata": {},
     "output_type": "execute_result"
    }
   ],
   "source": [
    "new_df.EbertStars.mode()"
   ]
  },
  {
   "cell_type": "markdown",
   "metadata": {},
   "source": [
    "# Feature Engineering"
   ]
  },
  {
   "cell_type": "code",
   "execution_count": null,
   "metadata": {
    "collapsed": true
   },
   "outputs": [],
   "source": []
  },
  {
   "cell_type": "markdown",
   "metadata": {},
   "source": [
    "# Database"
   ]
  },
  {
   "cell_type": "code",
   "execution_count": null,
   "metadata": {
    "collapsed": true
   },
   "outputs": [],
   "source": []
  },
  {
   "cell_type": "markdown",
   "metadata": {},
   "source": [
    "# EDA"
   ]
  },
  {
   "cell_type": "code",
   "execution_count": 30,
   "metadata": {
    "collapsed": false
   },
   "outputs": [
    {
     "data": {
      "text/html": [
       "<div>\n",
       "<table border=\"1\" class=\"dataframe\">\n",
       "  <thead>\n",
       "    <tr style=\"text-align: right;\">\n",
       "      <th></th>\n",
       "      <th>Title</th>\n",
       "      <th>EbertStars</th>\n",
       "      <th>Year</th>\n",
       "      <th>URL</th>\n",
       "      <th>Rating</th>\n",
       "      <th>Runtime</th>\n",
       "      <th>Review</th>\n",
       "      <th>year</th>\n",
       "      <th>runtime</th>\n",
       "    </tr>\n",
       "  </thead>\n",
       "  <tbody>\n",
       "    <tr>\n",
       "      <th>0</th>\n",
       "      <td>A Cure for Wellness</td>\n",
       "      <td>2.0</td>\n",
       "      <td>2017</td>\n",
       "      <td>/reviews/a-cure-for-wellness-2017</td>\n",
       "      <td>NaN</td>\n",
       "      <td>NaN</td>\n",
       "      <td>NaN</td>\n",
       "      <td>2017.0</td>\n",
       "      <td>None</td>\n",
       "    </tr>\n",
       "    <tr>\n",
       "      <th>1</th>\n",
       "      <td>Big Little Lies</td>\n",
       "      <td>3.5</td>\n",
       "      <td>2017</td>\n",
       "      <td>/reviews/big-little-lies-2017</td>\n",
       "      <td>NaN</td>\n",
       "      <td>NaN</td>\n",
       "      <td>NaN</td>\n",
       "      <td>2017.0</td>\n",
       "      <td>None</td>\n",
       "    </tr>\n",
       "    <tr>\n",
       "      <th>2</th>\n",
       "      <td>The Great Wall</td>\n",
       "      <td>3.0</td>\n",
       "      <td>2017</td>\n",
       "      <td>/reviews/the-great-wall-2017</td>\n",
       "      <td>NaN</td>\n",
       "      <td>NaN</td>\n",
       "      <td>NaN</td>\n",
       "      <td>2017.0</td>\n",
       "      <td>None</td>\n",
       "    </tr>\n",
       "    <tr>\n",
       "      <th>3</th>\n",
       "      <td>American Fable</td>\n",
       "      <td>3.0</td>\n",
       "      <td>2017</td>\n",
       "      <td>/reviews/american-fable-2017</td>\n",
       "      <td>NaN</td>\n",
       "      <td>NaN</td>\n",
       "      <td>NaN</td>\n",
       "      <td>2017.0</td>\n",
       "      <td>None</td>\n",
       "    </tr>\n",
       "    <tr>\n",
       "      <th>4</th>\n",
       "      <td>Lovesong</td>\n",
       "      <td>3.0</td>\n",
       "      <td>2017</td>\n",
       "      <td>/reviews/lovesong-2017</td>\n",
       "      <td>NaN</td>\n",
       "      <td>NaN</td>\n",
       "      <td>NaN</td>\n",
       "      <td>2017.0</td>\n",
       "      <td>None</td>\n",
       "    </tr>\n",
       "  </tbody>\n",
       "</table>\n",
       "</div>"
      ],
      "text/plain": [
       "                 Title  EbertStars  Year                                URL  \\\n",
       "0  A Cure for Wellness         2.0  2017  /reviews/a-cure-for-wellness-2017   \n",
       "1      Big Little Lies         3.5  2017      /reviews/big-little-lies-2017   \n",
       "2       The Great Wall         3.0  2017       /reviews/the-great-wall-2017   \n",
       "3       American Fable         3.0  2017       /reviews/american-fable-2017   \n",
       "4             Lovesong         3.0  2017             /reviews/lovesong-2017   \n",
       "\n",
       "  Rating Runtime Review    year runtime  \n",
       "0    NaN     NaN    NaN  2017.0    None  \n",
       "1    NaN     NaN    NaN  2017.0    None  \n",
       "2    NaN     NaN    NaN  2017.0    None  \n",
       "3    NaN     NaN    NaN  2017.0    None  \n",
       "4    NaN     NaN    NaN  2017.0    None  "
      ]
     },
     "execution_count": 30,
     "metadata": {},
     "output_type": "execute_result"
    }
   ],
   "source": [
    "new_df.head()"
   ]
  },
  {
   "cell_type": "code",
   "execution_count": 32,
   "metadata": {
    "collapsed": false
   },
   "outputs": [
    {
     "data": {
      "image/png": "[encoded data removed]",
      "text/plain": [
       "<matplotlib.figure.Figure at 0x117188a90>"
      ]
     },
     "metadata": {},
     "output_type": "display_data"
    }
   ],
   "source": [
    "plt.figure(figsize=(15,8))\n",
    "new_df['EbertStars'].hist(bins=9)\n",
    "plt.title('Histogram of Ratings')\n",
    "plt.xlabel('Ebert Rating')\n",
    "plt.ylabel('Count')\n",
    "plt.show()"
   ]
  },
  {
   "cell_type": "code",
   "execution_count": 23,
   "metadata": {
    "collapsed": false
   },
   "outputs": [
    {
     "data": {
      "text/plain": [
       "<matplotlib.axes._subplots.AxesSubplot at 0x1196b6908>"
      ]
     },
     "execution_count": 23,
     "metadata": {},
     "output_type": "execute_result"
    },
    {
     "data": {
      "image/png": "[encoded data removed]",
      "text/plain": [
       "<matplotlib.figure.Figure at 0x11a013080>"
      ]
     },
     "metadata": {},
     "output_type": "display_data"
    }
   ],
   "source": [
    "new_df.plot.scatter(x='runtime', y='EbertStars')"
   ]
  },
  {
   "cell_type": "code",
   "execution_count": 24,
   "metadata": {
    "collapsed": true
   },
   "outputs": [],
   "source": [
    "new_df = new_df[new_df['runtime'] < 250]"
   ]
  },
  {
   "cell_type": "code",
   "execution_count": 25,
   "metadata": {
    "collapsed": false
   },
   "outputs": [
    {
     "data": {
      "text/plain": [
       "R        50\n",
       "NR       48\n",
       "PG-13    30\n",
       "         17\n",
       "PG        6\n",
       "G         1\n",
       "Name: Rating, dtype: int64"
      ]
     },
     "execution_count": 25,
     "metadata": {},
     "output_type": "execute_result"
    }
   ],
   "source": [
    "new_df.Rating.value_counts()"
   ]
  },
  {
   "cell_type": "code",
   "execution_count": 26,
   "metadata": {
    "collapsed": false
   },
   "outputs": [],
   "source": [
    "new_df = new_df.rename(columns={'PG-13': 'PG_13'})"
   ]
  },
  {
   "cell_type": "markdown",
   "metadata": {},
   "source": [
    "# Modeling\n"
   ]
  },
  {
   "cell_type": "code",
   "execution_count": 27,
   "metadata": {
    "collapsed": true
   },
   "outputs": [],
   "source": [
    "import statsmodels.formula.api as smf\n",
    "import numpy as np"
   ]
  },
  {
   "cell_type": "code",
   "execution_count": 28,
   "metadata": {
    "collapsed": false
   },
   "outputs": [],
   "source": [
    "model_df = new_df[['runtime', 'G', 'NR', 'PG', 'PG_13','R','EbertStars']]"
   ]
  },
  {
   "cell_type": "code",
   "execution_count": 29,
   "metadata": {
    "collapsed": false
   },
   "outputs": [
    {
     "data": {
      "text/html": [
       "<div>\n",
       "<table border=\"1\" class=\"dataframe\">\n",
       "  <thead>\n",
       "    <tr style=\"text-align: right;\">\n",
       "      <th></th>\n",
       "      <th>runtime</th>\n",
       "      <th>G</th>\n",
       "      <th>NR</th>\n",
       "      <th>PG</th>\n",
       "      <th>PG_13</th>\n",
       "      <th>R</th>\n",
       "      <th>EbertStars</th>\n",
       "    </tr>\n",
       "  </thead>\n",
       "  <tbody>\n",
       "    <tr>\n",
       "      <th>runtime</th>\n",
       "      <td>1.000000</td>\n",
       "      <td>-0.081251</td>\n",
       "      <td>-0.343071</td>\n",
       "      <td>-0.032473</td>\n",
       "      <td>0.252139</td>\n",
       "      <td>0.210774</td>\n",
       "      <td>0.164540</td>\n",
       "    </tr>\n",
       "    <tr>\n",
       "      <th>G</th>\n",
       "      <td>-0.081251</td>\n",
       "      <td>1.000000</td>\n",
       "      <td>-0.055286</td>\n",
       "      <td>-0.016497</td>\n",
       "      <td>-0.040355</td>\n",
       "      <td>-0.056977</td>\n",
       "      <td>0.040496</td>\n",
       "    </tr>\n",
       "    <tr>\n",
       "      <th>NR</th>\n",
       "      <td>-0.343071</td>\n",
       "      <td>-0.055286</td>\n",
       "      <td>1.000000</td>\n",
       "      <td>-0.137722</td>\n",
       "      <td>-0.336887</td>\n",
       "      <td>-0.475651</td>\n",
       "      <td>0.079921</td>\n",
       "    </tr>\n",
       "    <tr>\n",
       "      <th>PG</th>\n",
       "      <td>-0.032473</td>\n",
       "      <td>-0.016497</td>\n",
       "      <td>-0.137722</td>\n",
       "      <td>1.000000</td>\n",
       "      <td>-0.100526</td>\n",
       "      <td>-0.141933</td>\n",
       "      <td>-0.007870</td>\n",
       "    </tr>\n",
       "    <tr>\n",
       "      <th>PG_13</th>\n",
       "      <td>0.252139</td>\n",
       "      <td>-0.040355</td>\n",
       "      <td>-0.336887</td>\n",
       "      <td>-0.100526</td>\n",
       "      <td>1.000000</td>\n",
       "      <td>-0.347189</td>\n",
       "      <td>-0.019251</td>\n",
       "    </tr>\n",
       "    <tr>\n",
       "      <th>R</th>\n",
       "      <td>0.210774</td>\n",
       "      <td>-0.056977</td>\n",
       "      <td>-0.475651</td>\n",
       "      <td>-0.141933</td>\n",
       "      <td>-0.347189</td>\n",
       "      <td>1.000000</td>\n",
       "      <td>-0.177414</td>\n",
       "    </tr>\n",
       "    <tr>\n",
       "      <th>EbertStars</th>\n",
       "      <td>0.164540</td>\n",
       "      <td>0.040496</td>\n",
       "      <td>0.079921</td>\n",
       "      <td>-0.007870</td>\n",
       "      <td>-0.019251</td>\n",
       "      <td>-0.177414</td>\n",
       "      <td>1.000000</td>\n",
       "    </tr>\n",
       "  </tbody>\n",
       "</table>\n",
       "</div>"
      ],
      "text/plain": [
       "             runtime         G        NR        PG     PG_13         R  \\\n",
       "runtime     1.000000 -0.081251 -0.343071 -0.032473  0.252139  0.210774   \n",
       "G          -0.081251  1.000000 -0.055286 -0.016497 -0.040355 -0.056977   \n",
       "NR         -0.343071 -0.055286  1.000000 -0.137722 -0.336887 -0.475651   \n",
       "PG         -0.032473 -0.016497 -0.137722  1.000000 -0.100526 -0.141933   \n",
       "PG_13       0.252139 -0.040355 -0.336887 -0.100526  1.000000 -0.347189   \n",
       "R           0.210774 -0.056977 -0.475651 -0.141933 -0.347189  1.000000   \n",
       "EbertStars  0.164540  0.040496  0.079921 -0.007870 -0.019251 -0.177414   \n",
       "\n",
       "            EbertStars  \n",
       "runtime       0.164540  \n",
       "G             0.040496  \n",
       "NR            0.079921  \n",
       "PG           -0.007870  \n",
       "PG_13        -0.019251  \n",
       "R            -0.177414  \n",
       "EbertStars    1.000000  "
      ]
     },
     "execution_count": 29,
     "metadata": {},
     "output_type": "execute_result"
    }
   ],
   "source": [
    "model_df.corr()"
   ]
  },
  {
   "cell_type": "code",
   "execution_count": 30,
   "metadata": {
    "collapsed": false
   },
   "outputs": [
    {
     "data": {
      "text/html": [
       "<table class=\"simpletable\">\n",
       "<caption>OLS Regression Results</caption>\n",
       "<tr>\n",
       "  <th>Dep. Variable:</th>       <td>EbertStars</td>    <th>  R-squared:         </th> <td>   0.115</td>\n",
       "</tr>\n",
       "<tr>\n",
       "  <th>Model:</th>                   <td>OLS</td>       <th>  Adj. R-squared:    </th> <td>   0.078</td>\n",
       "</tr>\n",
       "<tr>\n",
       "  <th>Method:</th>             <td>Least Squares</td>  <th>  F-statistic:       </th> <td>   3.133</td>\n",
       "</tr>\n",
       "<tr>\n",
       "  <th>Date:</th>             <td>Fri, 17 Feb 2017</td> <th>  Prob (F-statistic):</th>  <td>0.00644</td>\n",
       "</tr>\n",
       "<tr>\n",
       "  <th>Time:</th>                 <td>16:14:20</td>     <th>  Log-Likelihood:    </th> <td> -195.72</td>\n",
       "</tr>\n",
       "<tr>\n",
       "  <th>No. Observations:</th>      <td>   152</td>      <th>  AIC:               </th> <td>   405.4</td>\n",
       "</tr>\n",
       "<tr>\n",
       "  <th>Df Residuals:</th>          <td>   145</td>      <th>  BIC:               </th> <td>   426.6</td>\n",
       "</tr>\n",
       "<tr>\n",
       "  <th>Df Model:</th>              <td>     6</td>      <th>                     </th>     <td> </td>   \n",
       "</tr>\n",
       "<tr>\n",
       "  <th>Covariance Type:</th>      <td>nonrobust</td>    <th>                     </th>     <td> </td>   \n",
       "</tr>\n",
       "</table>\n",
       "<table class=\"simpletable\">\n",
       "<tr>\n",
       "      <td></td>         <th>coef</th>     <th>std err</th>      <th>t</th>      <th>P>|t|</th> <th>[95.0% Conf. Int.]</th> \n",
       "</tr>\n",
       "<tr>\n",
       "  <th>Intercept</th> <td>    1.4648</td> <td>    0.517</td> <td>    2.834</td> <td> 0.005</td> <td>    0.443     2.486</td>\n",
       "</tr>\n",
       "<tr>\n",
       "  <th>runtime</th>   <td>    0.0151</td> <td>    0.005</td> <td>    3.212</td> <td> 0.002</td> <td>    0.006     0.024</td>\n",
       "</tr>\n",
       "<tr>\n",
       "  <th>G</th>         <td>    0.2244</td> <td>    0.926</td> <td>    0.242</td> <td> 0.809</td> <td>   -1.606     2.054</td>\n",
       "</tr>\n",
       "<tr>\n",
       "  <th>NR</th>        <td>   -0.2569</td> <td>    0.254</td> <td>   -1.010</td> <td> 0.314</td> <td>   -0.759     0.246</td>\n",
       "</tr>\n",
       "<tr>\n",
       "  <th>PG</th>        <td>   -0.4916</td> <td>    0.426</td> <td>   -1.153</td> <td> 0.251</td> <td>   -1.334     0.351</td>\n",
       "</tr>\n",
       "<tr>\n",
       "  <th>PG_13</th>     <td>   -0.6638</td> <td>    0.279</td> <td>   -2.378</td> <td> 0.019</td> <td>   -1.216    -0.112</td>\n",
       "</tr>\n",
       "<tr>\n",
       "  <th>R</th>         <td>   -0.8104</td> <td>    0.256</td> <td>   -3.168</td> <td> 0.002</td> <td>   -1.316    -0.305</td>\n",
       "</tr>\n",
       "</table>\n",
       "<table class=\"simpletable\">\n",
       "<tr>\n",
       "  <th>Omnibus:</th>       <td> 8.479</td> <th>  Durbin-Watson:     </th> <td>   1.930</td>\n",
       "</tr>\n",
       "<tr>\n",
       "  <th>Prob(Omnibus):</th> <td> 0.014</td> <th>  Jarque-Bera (JB):  </th> <td>   4.505</td>\n",
       "</tr>\n",
       "<tr>\n",
       "  <th>Skew:</th>          <td>-0.207</td> <th>  Prob(JB):          </th> <td>   0.105</td>\n",
       "</tr>\n",
       "<tr>\n",
       "  <th>Kurtosis:</th>      <td> 2.266</td> <th>  Cond. No.          </th> <td>1.36e+03</td>\n",
       "</tr>\n",
       "</table>"
      ],
      "text/plain": [
       "<class 'statsmodels.iolib.summary.Summary'>\n",
       "\"\"\"\n",
       "                            OLS Regression Results                            \n",
       "==============================================================================\n",
       "Dep. Variable:             EbertStars   R-squared:                       0.115\n",
       "Model:                            OLS   Adj. R-squared:                  0.078\n",
       "Method:                 Least Squares   F-statistic:                     3.133\n",
       "Date:                Fri, 17 Feb 2017   Prob (F-statistic):            0.00644\n",
       "Time:                        16:14:20   Log-Likelihood:                -195.72\n",
       "No. Observations:                 152   AIC:                             405.4\n",
       "Df Residuals:                     145   BIC:                             426.6\n",
       "Df Model:                           6                                         \n",
       "Covariance Type:            nonrobust                                         \n",
       "==============================================================================\n",
       "                 coef    std err          t      P>|t|      [95.0% Conf. Int.]\n",
       "------------------------------------------------------------------------------\n",
       "Intercept      1.4648      0.517      2.834      0.005         0.443     2.486\n",
       "runtime        0.0151      0.005      3.212      0.002         0.006     0.024\n",
       "G              0.2244      0.926      0.242      0.809        -1.606     2.054\n",
       "NR            -0.2569      0.254     -1.010      0.314        -0.759     0.246\n",
       "PG            -0.4916      0.426     -1.153      0.251        -1.334     0.351\n",
       "PG_13         -0.6638      0.279     -2.378      0.019        -1.216    -0.112\n",
       "R             -0.8104      0.256     -3.168      0.002        -1.316    -0.305\n",
       "==============================================================================\n",
       "Omnibus:                        8.479   Durbin-Watson:                   1.930\n",
       "Prob(Omnibus):                  0.014   Jarque-Bera (JB):                4.505\n",
       "Skew:                          -0.207   Prob(JB):                        0.105\n",
       "Kurtosis:                       2.266   Cond. No.                     1.36e+03\n",
       "==============================================================================\n",
       "\n",
       "Warnings:\n",
       "[1] Standard Errors assume that the covariance matrix of the errors is correctly specified.\n",
       "[2] The condition number is large, 1.36e+03. This might indicate that there are\n",
       "strong multicollinearity or other numerical problems.\n",
       "\"\"\""
      ]
     },
     "execution_count": 30,
     "metadata": {},
     "output_type": "execute_result"
    }
   ],
   "source": [
    "model = smf.ols(formula='EbertStars ~ runtime + G + NR + PG + PG_13 + R', data=model_df)\n",
    "results = model.fit()\n",
    "results.summary()"
   ]
  },
  {
   "cell_type": "code",
   "execution_count": 31,
   "metadata": {
    "collapsed": true
   },
   "outputs": [],
   "source": [
    "def half_round(x, prec=1, base=.5):\n",
    "    return round(base * round(float(x) / base), prec)"
   ]
  },
  {
   "cell_type": "code",
   "execution_count": 32,
   "metadata": {
    "collapsed": true
   },
   "outputs": [],
   "source": [
    "from sklearn.model_selection import train_test_split\n",
    "\n",
    "train, test = train_test_split(model_df, test_size=0.33, random_state=42)"
   ]
  },
  {
   "cell_type": "code",
   "execution_count": 33,
   "metadata": {
    "collapsed": false
   },
   "outputs": [
    {
     "data": {
      "text/html": [
       "<table class=\"simpletable\">\n",
       "<caption>OLS Regression Results</caption>\n",
       "<tr>\n",
       "  <th>Dep. Variable:</th>       <td>EbertStars</td>    <th>  R-squared:         </th> <td>   0.177</td>\n",
       "</tr>\n",
       "<tr>\n",
       "  <th>Model:</th>                   <td>OLS</td>       <th>  Adj. R-squared:    </th> <td>   0.124</td>\n",
       "</tr>\n",
       "<tr>\n",
       "  <th>Method:</th>             <td>Least Squares</td>  <th>  F-statistic:       </th> <td>   3.364</td>\n",
       "</tr>\n",
       "<tr>\n",
       "  <th>Date:</th>             <td>Fri, 17 Feb 2017</td> <th>  Prob (F-statistic):</th>  <td>0.00477</td>\n",
       "</tr>\n",
       "<tr>\n",
       "  <th>Time:</th>                 <td>16:14:20</td>     <th>  Log-Likelihood:    </th> <td> -123.12</td>\n",
       "</tr>\n",
       "<tr>\n",
       "  <th>No. Observations:</th>      <td>   101</td>      <th>  AIC:               </th> <td>   260.2</td>\n",
       "</tr>\n",
       "<tr>\n",
       "  <th>Df Residuals:</th>          <td>    94</td>      <th>  BIC:               </th> <td>   278.5</td>\n",
       "</tr>\n",
       "<tr>\n",
       "  <th>Df Model:</th>              <td>     6</td>      <th>                     </th>     <td> </td>   \n",
       "</tr>\n",
       "<tr>\n",
       "  <th>Covariance Type:</th>      <td>nonrobust</td>    <th>                     </th>     <td> </td>   \n",
       "</tr>\n",
       "</table>\n",
       "<table class=\"simpletable\">\n",
       "<tr>\n",
       "      <td></td>         <th>coef</th>     <th>std err</th>      <th>t</th>      <th>P>|t|</th> <th>[95.0% Conf. Int.]</th> \n",
       "</tr>\n",
       "<tr>\n",
       "  <th>Intercept</th> <td>    1.3472</td> <td>    0.557</td> <td>    2.418</td> <td> 0.018</td> <td>    0.241     2.453</td>\n",
       "</tr>\n",
       "<tr>\n",
       "  <th>runtime</th>   <td>    0.0159</td> <td>    0.005</td> <td>    3.108</td> <td> 0.002</td> <td>    0.006     0.026</td>\n",
       "</tr>\n",
       "<tr>\n",
       "  <th>G</th>         <td>    0.2671</td> <td>    0.881</td> <td>    0.303</td> <td> 0.762</td> <td>   -1.482     2.016</td>\n",
       "</tr>\n",
       "<tr>\n",
       "  <th>NR</th>        <td>   -0.0450</td> <td>    0.282</td> <td>   -0.160</td> <td> 0.873</td> <td>   -0.605     0.515</td>\n",
       "</tr>\n",
       "<tr>\n",
       "  <th>PG</th>        <td>   -0.4718</td> <td>    0.481</td> <td>   -0.980</td> <td> 0.330</td> <td>   -1.428     0.484</td>\n",
       "</tr>\n",
       "<tr>\n",
       "  <th>PG_13</th>     <td>   -0.7268</td> <td>    0.299</td> <td>   -2.427</td> <td> 0.017</td> <td>   -1.321    -0.132</td>\n",
       "</tr>\n",
       "<tr>\n",
       "  <th>R</th>         <td>   -0.8160</td> <td>    0.273</td> <td>   -2.988</td> <td> 0.004</td> <td>   -1.358    -0.274</td>\n",
       "</tr>\n",
       "</table>\n",
       "<table class=\"simpletable\">\n",
       "<tr>\n",
       "  <th>Omnibus:</th>       <td> 5.982</td> <th>  Durbin-Watson:     </th> <td>   2.126</td>\n",
       "</tr>\n",
       "<tr>\n",
       "  <th>Prob(Omnibus):</th> <td> 0.050</td> <th>  Jarque-Bera (JB):  </th> <td>   2.957</td>\n",
       "</tr>\n",
       "<tr>\n",
       "  <th>Skew:</th>          <td>-0.143</td> <th>  Prob(JB):          </th> <td>   0.228</td>\n",
       "</tr>\n",
       "<tr>\n",
       "  <th>Kurtosis:</th>      <td> 2.212</td> <th>  Cond. No.          </th> <td>1.13e+03</td>\n",
       "</tr>\n",
       "</table>"
      ],
      "text/plain": [
       "<class 'statsmodels.iolib.summary.Summary'>\n",
       "\"\"\"\n",
       "                            OLS Regression Results                            \n",
       "==============================================================================\n",
       "Dep. Variable:             EbertStars   R-squared:                       0.177\n",
       "Model:                            OLS   Adj. R-squared:                  0.124\n",
       "Method:                 Least Squares   F-statistic:                     3.364\n",
       "Date:                Fri, 17 Feb 2017   Prob (F-statistic):            0.00477\n",
       "Time:                        16:14:20   Log-Likelihood:                -123.12\n",
       "No. Observations:                 101   AIC:                             260.2\n",
       "Df Residuals:                      94   BIC:                             278.5\n",
       "Df Model:                           6                                         \n",
       "Covariance Type:            nonrobust                                         \n",
       "==============================================================================\n",
       "                 coef    std err          t      P>|t|      [95.0% Conf. Int.]\n",
       "------------------------------------------------------------------------------\n",
       "Intercept      1.3472      0.557      2.418      0.018         0.241     2.453\n",
       "runtime        0.0159      0.005      3.108      0.002         0.006     0.026\n",
       "G              0.2671      0.881      0.303      0.762        -1.482     2.016\n",
       "NR            -0.0450      0.282     -0.160      0.873        -0.605     0.515\n",
       "PG            -0.4718      0.481     -0.980      0.330        -1.428     0.484\n",
       "PG_13         -0.7268      0.299     -2.427      0.017        -1.321    -0.132\n",
       "R             -0.8160      0.273     -2.988      0.004        -1.358    -0.274\n",
       "==============================================================================\n",
       "Omnibus:                        5.982   Durbin-Watson:                   2.126\n",
       "Prob(Omnibus):                  0.050   Jarque-Bera (JB):                2.957\n",
       "Skew:                          -0.143   Prob(JB):                        0.228\n",
       "Kurtosis:                       2.212   Cond. No.                     1.13e+03\n",
       "==============================================================================\n",
       "\n",
       "Warnings:\n",
       "[1] Standard Errors assume that the covariance matrix of the errors is correctly specified.\n",
       "[2] The condition number is large, 1.13e+03. This might indicate that there are\n",
       "strong multicollinearity or other numerical problems.\n",
       "\"\"\""
      ]
     },
     "execution_count": 33,
     "metadata": {},
     "output_type": "execute_result"
    }
   ],
   "source": [
    "model = smf.ols(formula='EbertStars ~ runtime + G + NR + PG + PG_13 + R', data=train)\n",
    "results = model.fit()\n",
    "results.summary()"
   ]
  },
  {
   "cell_type": "code",
   "execution_count": 34,
   "metadata": {
    "collapsed": false
   },
   "outputs": [
    {
     "data": {
      "text/plain": [
       "Intercept    1.347174\n",
       "runtime      0.015928\n",
       "G            0.267112\n",
       "NR          -0.045026\n",
       "PG          -0.471804\n",
       "PG_13       -0.726775\n",
       "R           -0.815965\n",
       "dtype: float64"
      ]
     },
     "execution_count": 34,
     "metadata": {},
     "output_type": "execute_result"
    }
   ],
   "source": [
    "results.params"
   ]
  },
  {
   "cell_type": "code",
   "execution_count": 35,
   "metadata": {
    "collapsed": true
   },
   "outputs": [],
   "source": [
    "coefficients = results.params"
   ]
  },
  {
   "cell_type": "code",
   "execution_count": 36,
   "metadata": {
    "collapsed": false
   },
   "outputs": [],
   "source": [
    "test.insert(0, 'intercept', 1)"
   ]
  },
  {
   "cell_type": "code",
   "execution_count": 37,
   "metadata": {
    "collapsed": false
   },
   "outputs": [],
   "source": [
    "y_true = test['EbertStars']\n",
    "y_pred = np.dot(test.drop('EbertStars', 1), coefficients)"
   ]
  },
  {
   "cell_type": "code",
   "execution_count": 38,
   "metadata": {
    "collapsed": false
   },
   "outputs": [],
   "source": [
    "# baseline\n",
    "baseline = [3.0] * len(y_true)"
   ]
  },
  {
   "cell_type": "code",
   "execution_count": 39,
   "metadata": {
    "collapsed": false
   },
   "outputs": [
    {
     "name": "stdout",
     "output_type": "stream",
     "text": [
      "Baseline Algorithm Error:  1.21568627451\n"
     ]
    }
   ],
   "source": [
    "from sklearn.metrics import mean_squared_error\n",
    "\n",
    "baseline_error = mean_squared_error(y_true, baseline)\n",
    "print('Baseline Algorithm Error: ', baseline_error)"
   ]
  },
  {
   "cell_type": "code",
   "execution_count": 40,
   "metadata": {
    "collapsed": true
   },
   "outputs": [],
   "source": [
    "y_pred_round = [half_round(y) for y in y_pred]"
   ]
  },
  {
   "cell_type": "code",
   "execution_count": 41,
   "metadata": {
    "collapsed": false
   },
   "outputs": [
    {
     "name": "stdout",
     "output_type": "stream",
     "text": [
      "Linear Regression Error:  1.08823529412\n"
     ]
    }
   ],
   "source": [
    "model_error = mean_squared_error(y_true, y_pred_round)\n",
    "print('Linear Regression Error: ', model_error)"
   ]
  },
  {
   "cell_type": "markdown",
   "metadata": {},
   "source": [
    "# Visuals"
   ]
  },
  {
   "cell_type": "code",
   "execution_count": null,
   "metadata": {
    "collapsed": true
   },
   "outputs": [],
   "source": []
  },
  {
   "cell_type": "markdown",
   "metadata": {},
   "source": [
    "# Conclusions, Lessons Learned and Further Research"
   ]
  },
  {
   "cell_type": "code",
   "execution_count": null,
   "metadata": {
    "collapsed": true
   },
   "outputs": [],
   "source": []
  }
 ],
 "metadata": {
  "anaconda-cloud": {},
  "kernelspec": {
   "display_name": "Python [default]",
   "language": "python",
   "name": "python3"
  },
  "language_info": {
   "codemirror_mode": {
    "name": "ipython",
    "version": 3
   },
   "file_extension": ".py",
   "mimetype": "text/x-python",
   "name": "python",
   "nbconvert_exporter": "python",
   "pygments_lexer": "ipython3",
   "version": "3.5.2"
  }
 },
 "nbformat": 4,
 "nbformat_minor": 1
}
