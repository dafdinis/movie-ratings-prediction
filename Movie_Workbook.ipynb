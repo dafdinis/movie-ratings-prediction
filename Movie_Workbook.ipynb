{
 "cells": [
  {
   "cell_type": "markdown",
   "metadata": {},
   "source": [
    "# Regression Open-Ended Project"
   ]
  },
  {
   "cell_type": "markdown",
   "metadata": {
    "collapsed": true
   },
   "source": [
    "-----"
   ]
  },
  {
   "cell_type": "markdown",
   "metadata": {},
   "source": [
    "# Define Question / Hypothesis"
   ]
  },
  {
   "cell_type": "markdown",
   "metadata": {
    "collapsed": true
   },
   "source": [
    "**Use publicly available data to generate Roger Ebert-esque ratings for recent movies.**"
   ]
  },
  {
   "cell_type": "markdown",
   "metadata": {},
   "source": [
    "# Obtain Data via Scraping and APIs\n",
    "\n",
    "- requests - fetch HTML pages\n",
    "- BeautifulSoup: web scraping\n",
    "- time: to add in a sleep delay when scraping\n",
    "- tqdm: a nifty tool to show progress bar\n",
    "- pandas: for data frames\n",
    "- pickle: to pickle things"
   ]
  },
  {
   "cell_type": "code",
   "execution_count": 122,
   "metadata": {
    "collapsed": false
   },
   "outputs": [],
   "source": [
    "import requests\n",
    "from bs4 import BeautifulSoup\n",
    "import pandas as pd\n",
    "import numpy as np\n",
    "import time\n",
    "import tqdm\n",
    "import pickle\n",
    "import matplotlib.pyplot as plt\n",
    "%matplotlib inline"
   ]
  },
  {
   "cell_type": "markdown",
   "metadata": {},
   "source": [
    "### Add Scraping for Infinity Scroll"
   ]
  },
  {
   "cell_type": "code",
   "execution_count": 12,
   "metadata": {
    "collapsed": true
   },
   "outputs": [],
   "source": [
    "soup = BeautifulSoup(open('ebert.html'), 'lxml')\n",
    "all_reviews = soup('figure', {'class':'movie review'})"
   ]
  },
  {
   "cell_type": "code",
   "execution_count": 23,
   "metadata": {
    "collapsed": true
   },
   "outputs": [],
   "source": [
    "def scrape_eberts_review(review_set):\n",
    "    \"\"\"\n",
    "    Parses through webpage with list of movies and returns DataFrame.\n",
    "    :review_set = BeautifulSoup object\n",
    "    \"\"\"\n",
    "    review_list = list()\n",
    "    \n",
    "    for movie in review_set:\n",
    "        url = movie.a.get('href')\n",
    "        title = movie.find_all('a')[1].text\n",
    "        stars = len(movie.find_all('i', {'class':'icon-star-full'})) + 0.5 * len(movie.find_all('i', {'class':'icon-star-half'}))\n",
    "        \n",
    "        try:\n",
    "            year = movie.find('span', {'class':'release-year'}).text[1:-1]\n",
    "        except:\n",
    "            year = ''\n",
    "\n",
    "        review_list.append([title, stars, year, url])\n",
    "    \n",
    "    df = pd.DataFrame(review_list, columns = ['Title', 'EbertStars', 'Year', 'URL'])\n",
    "    return df"
   ]
  },
  {
   "cell_type": "code",
   "execution_count": 24,
   "metadata": {
    "collapsed": true
   },
   "outputs": [
    {
     "data": {
      "text/html": [
       "<div>\n",
       "<table border=\"1\" class=\"dataframe\">\n",
       "  <thead>\n",
       "    <tr style=\"text-align: right;\">\n",
       "      <th></th>\n",
       "      <th>Title</th>\n",
       "      <th>EbertStars</th>\n",
       "      <th>Year</th>\n",
       "      <th>URL</th>\n",
       "    </tr>\n",
       "  </thead>\n",
       "  <tbody>\n",
       "    <tr>\n",
       "      <th>0</th>\n",
       "      <td>Big Little Lies</td>\n",
       "      <td>3.5</td>\n",
       "      <td>2017</td>\n",
       "      <td>http://www.rogerebert.com/reviews/big-little-l...</td>\n",
       "    </tr>\n",
       "    <tr>\n",
       "      <th>1</th>\n",
       "      <td>A Cure for Wellness</td>\n",
       "      <td>2.0</td>\n",
       "      <td>2017</td>\n",
       "      <td>http://www.rogerebert.com/reviews/a-cure-for-w...</td>\n",
       "    </tr>\n",
       "    <tr>\n",
       "      <th>2</th>\n",
       "      <td>A United Kingdom</td>\n",
       "      <td>2.5</td>\n",
       "      <td>2017</td>\n",
       "      <td>http://www.rogerebert.com/reviews/a-united-kin...</td>\n",
       "    </tr>\n",
       "    <tr>\n",
       "      <th>3</th>\n",
       "      <td>Fifty Shades Darker</td>\n",
       "      <td>2.0</td>\n",
       "      <td>2017</td>\n",
       "      <td>http://www.rogerebert.com/reviews/fifty-shades...</td>\n",
       "    </tr>\n",
       "    <tr>\n",
       "      <th>4</th>\n",
       "      <td>Kedi</td>\n",
       "      <td>4.0</td>\n",
       "      <td>2017</td>\n",
       "      <td>http://www.rogerebert.com/reviews/kedi-2017</td>\n",
       "    </tr>\n",
       "    <tr>\n",
       "      <th>5</th>\n",
       "      <td>Land of Mine</td>\n",
       "      <td>3.0</td>\n",
       "      <td>2017</td>\n",
       "      <td>http://www.rogerebert.com/reviews/land-of-mine...</td>\n",
       "    </tr>\n",
       "    <tr>\n",
       "      <th>6</th>\n",
       "      <td>David Brent: Life on the Road</td>\n",
       "      <td>1.5</td>\n",
       "      <td>2017</td>\n",
       "      <td>http://www.rogerebert.com/reviews/david-brent-...</td>\n",
       "    </tr>\n",
       "    <tr>\n",
       "      <th>7</th>\n",
       "      <td>John Wick: Chapter Two</td>\n",
       "      <td>3.5</td>\n",
       "      <td>2017</td>\n",
       "      <td>http://www.rogerebert.com/reviews/john-wick-ch...</td>\n",
       "    </tr>\n",
       "    <tr>\n",
       "      <th>8</th>\n",
       "      <td>The Lego Batman Movie</td>\n",
       "      <td>2.5</td>\n",
       "      <td>2017</td>\n",
       "      <td>http://www.rogerebert.com/reviews/the-lego-bat...</td>\n",
       "    </tr>\n",
       "    <tr>\n",
       "      <th>9</th>\n",
       "      <td>Rings</td>\n",
       "      <td>1.0</td>\n",
       "      <td>2017</td>\n",
       "      <td>http://www.rogerebert.com/reviews/rings-2017</td>\n",
       "    </tr>\n",
       "    <tr>\n",
       "      <th>10</th>\n",
       "      <td>War on Everyone</td>\n",
       "      <td>1.0</td>\n",
       "      <td>2017</td>\n",
       "      <td>http://www.rogerebert.com/reviews/war-on-every...</td>\n",
       "    </tr>\n",
       "    <tr>\n",
       "      <th>11</th>\n",
       "      <td>Trumped: Inside the Greatest Political Upset o...</td>\n",
       "      <td>2.0</td>\n",
       "      <td>2017</td>\n",
       "      <td>http://www.rogerebert.com/reviews/trumped-insi...</td>\n",
       "    </tr>\n",
       "    <tr>\n",
       "      <th>12</th>\n",
       "      <td>The Comedian</td>\n",
       "      <td>2.0</td>\n",
       "      <td>2017</td>\n",
       "      <td>http://www.rogerebert.com/reviews/the-comedian...</td>\n",
       "    </tr>\n",
       "    <tr>\n",
       "      <th>13</th>\n",
       "      <td>Journey to the West: The Demons Strike Back</td>\n",
       "      <td>3.0</td>\n",
       "      <td>2017</td>\n",
       "      <td>http://www.rogerebert.com/reviews/journey-to-t...</td>\n",
       "    </tr>\n",
       "    <tr>\n",
       "      <th>14</th>\n",
       "      <td>Wheeler</td>\n",
       "      <td>2.5</td>\n",
       "      <td>2017</td>\n",
       "      <td>http://www.rogerebert.com/reviews/wheeler-2017</td>\n",
       "    </tr>\n",
       "    <tr>\n",
       "      <th>15</th>\n",
       "      <td>Don't Knock Twice</td>\n",
       "      <td>1.5</td>\n",
       "      <td>2017</td>\n",
       "      <td>http://www.rogerebert.com/reviews/dont-knock-t...</td>\n",
       "    </tr>\n",
       "    <tr>\n",
       "      <th>16</th>\n",
       "      <td>This Is Everything: Gigi Gorgeous</td>\n",
       "      <td>4.0</td>\n",
       "      <td>2017</td>\n",
       "      <td>http://www.rogerebert.com/reviews/this-is-ever...</td>\n",
       "    </tr>\n",
       "    <tr>\n",
       "      <th>17</th>\n",
       "      <td>Youth in Oregon</td>\n",
       "      <td>2.0</td>\n",
       "      <td>2017</td>\n",
       "      <td>http://www.rogerebert.com/reviews/youth-in-ore...</td>\n",
       "    </tr>\n",
       "    <tr>\n",
       "      <th>18</th>\n",
       "      <td>American Violence</td>\n",
       "      <td>0.5</td>\n",
       "      <td>2017</td>\n",
       "      <td>http://www.rogerebert.com/reviews/american-vio...</td>\n",
       "    </tr>\n",
       "    <tr>\n",
       "      <th>19</th>\n",
       "      <td>Dark Night</td>\n",
       "      <td>1.5</td>\n",
       "      <td>2017</td>\n",
       "      <td>http://www.rogerebert.com/reviews/dark-night-2017</td>\n",
       "    </tr>\n",
       "    <tr>\n",
       "      <th>20</th>\n",
       "      <td>The Space Between Us</td>\n",
       "      <td>1.5</td>\n",
       "      <td>2017</td>\n",
       "      <td>http://www.rogerebert.com/reviews/the-space-be...</td>\n",
       "    </tr>\n",
       "    <tr>\n",
       "      <th>21</th>\n",
       "      <td>Mr. Gaga</td>\n",
       "      <td>3.5</td>\n",
       "      <td>2017</td>\n",
       "      <td>http://www.rogerebert.com/reviews/mr-gaga-2017</td>\n",
       "    </tr>\n",
       "    <tr>\n",
       "      <th>22</th>\n",
       "      <td>The Lure</td>\n",
       "      <td>2.5</td>\n",
       "      <td>2017</td>\n",
       "      <td>http://www.rogerebert.com/reviews/the-lure-2017</td>\n",
       "    </tr>\n",
       "    <tr>\n",
       "      <th>23</th>\n",
       "      <td>Resident Evil: The Final Chapter</td>\n",
       "      <td>3.0</td>\n",
       "      <td>2017</td>\n",
       "      <td>http://www.rogerebert.com/reviews/resident-evi...</td>\n",
       "    </tr>\n",
       "    <tr>\n",
       "      <th>24</th>\n",
       "      <td>The Salesman</td>\n",
       "      <td>3.5</td>\n",
       "      <td>2017</td>\n",
       "      <td>http://www.rogerebert.com/reviews/the-salesman...</td>\n",
       "    </tr>\n",
       "    <tr>\n",
       "      <th>25</th>\n",
       "      <td>A Dog's Purpose</td>\n",
       "      <td>1.5</td>\n",
       "      <td>2017</td>\n",
       "      <td>http://www.rogerebert.com/reviews/a-dogs-purpo...</td>\n",
       "    </tr>\n",
       "    <tr>\n",
       "      <th>26</th>\n",
       "      <td>Behemoth</td>\n",
       "      <td>4.0</td>\n",
       "      <td>2017</td>\n",
       "      <td>http://www.rogerebert.com/reviews/behemoth-2017</td>\n",
       "    </tr>\n",
       "    <tr>\n",
       "      <th>27</th>\n",
       "      <td>Paris 05:59: Théo &amp; Hugo</td>\n",
       "      <td>2.5</td>\n",
       "      <td>2017</td>\n",
       "      <td>http://www.rogerebert.com/reviews/paris-0559-t...</td>\n",
       "    </tr>\n",
       "    <tr>\n",
       "      <th>28</th>\n",
       "      <td>The Daughter</td>\n",
       "      <td>2.5</td>\n",
       "      <td>2017</td>\n",
       "      <td>http://www.rogerebert.com/reviews/the-daughter...</td>\n",
       "    </tr>\n",
       "    <tr>\n",
       "      <th>29</th>\n",
       "      <td>I Am Michael</td>\n",
       "      <td>3.0</td>\n",
       "      <td>2017</td>\n",
       "      <td>http://www.rogerebert.com/reviews/i-am-michael...</td>\n",
       "    </tr>\n",
       "    <tr>\n",
       "      <th>...</th>\n",
       "      <td>...</td>\n",
       "      <td>...</td>\n",
       "      <td>...</td>\n",
       "      <td>...</td>\n",
       "    </tr>\n",
       "    <tr>\n",
       "      <th>138</th>\n",
       "      <td>Elle</td>\n",
       "      <td>4.0</td>\n",
       "      <td>2016</td>\n",
       "      <td>http://www.rogerebert.com/reviews/elle-2016</td>\n",
       "    </tr>\n",
       "    <tr>\n",
       "      <th>139</th>\n",
       "      <td>The Monster</td>\n",
       "      <td>3.0</td>\n",
       "      <td>2016</td>\n",
       "      <td>http://www.rogerebert.com/reviews/the-monster-...</td>\n",
       "    </tr>\n",
       "    <tr>\n",
       "      <th>140</th>\n",
       "      <td>Billy Lynn's Long Halftime Walk</td>\n",
       "      <td>2.0</td>\n",
       "      <td>2016</td>\n",
       "      <td>http://www.rogerebert.com/reviews/billy-lynns-...</td>\n",
       "    </tr>\n",
       "    <tr>\n",
       "      <th>141</th>\n",
       "      <td>Come and Find Me</td>\n",
       "      <td>2.0</td>\n",
       "      <td>2016</td>\n",
       "      <td>http://www.rogerebert.com/reviews/come-and-fin...</td>\n",
       "    </tr>\n",
       "    <tr>\n",
       "      <th>142</th>\n",
       "      <td>USS Indianapolis: Men of Courage</td>\n",
       "      <td>1.5</td>\n",
       "      <td>2016</td>\n",
       "      <td>http://www.rogerebert.com/reviews/uss-indianap...</td>\n",
       "    </tr>\n",
       "    <tr>\n",
       "      <th>143</th>\n",
       "      <td>The Love Witch</td>\n",
       "      <td>3.5</td>\n",
       "      <td>2016</td>\n",
       "      <td>http://www.rogerebert.com/reviews/the-love-wit...</td>\n",
       "    </tr>\n",
       "    <tr>\n",
       "      <th>144</th>\n",
       "      <td>Disturbing the Peace</td>\n",
       "      <td>3.5</td>\n",
       "      <td>2016</td>\n",
       "      <td>http://www.rogerebert.com/reviews/disturbing-t...</td>\n",
       "    </tr>\n",
       "    <tr>\n",
       "      <th>145</th>\n",
       "      <td>Doctor Strange</td>\n",
       "      <td>2.5</td>\n",
       "      <td>2016</td>\n",
       "      <td>http://www.rogerebert.com/reviews/doctor-stran...</td>\n",
       "    </tr>\n",
       "    <tr>\n",
       "      <th>146</th>\n",
       "      <td>Loving</td>\n",
       "      <td>3.5</td>\n",
       "      <td>2016</td>\n",
       "      <td>http://www.rogerebert.com/reviews/loving-2016</td>\n",
       "    </tr>\n",
       "    <tr>\n",
       "      <th>147</th>\n",
       "      <td>Hacksaw Ridge</td>\n",
       "      <td>2.5</td>\n",
       "      <td>2016</td>\n",
       "      <td>http://www.rogerebert.com/reviews/hacksaw-ridg...</td>\n",
       "    </tr>\n",
       "    <tr>\n",
       "      <th>148</th>\n",
       "      <td>Trolls</td>\n",
       "      <td>2.5</td>\n",
       "      <td>2016</td>\n",
       "      <td>http://www.rogerebert.com/reviews/trolls-2016</td>\n",
       "    </tr>\n",
       "    <tr>\n",
       "      <th>149</th>\n",
       "      <td>The Ivory Game</td>\n",
       "      <td>3.0</td>\n",
       "      <td>2016</td>\n",
       "      <td>http://www.rogerebert.com/reviews/the-ivory-ga...</td>\n",
       "    </tr>\n",
       "    <tr>\n",
       "      <th>150</th>\n",
       "      <td>Dog Eat Dog</td>\n",
       "      <td>2.0</td>\n",
       "      <td>2016</td>\n",
       "      <td>http://www.rogerebert.com/reviews/dog-eat-dog-...</td>\n",
       "    </tr>\n",
       "    <tr>\n",
       "      <th>151</th>\n",
       "      <td>Peter and the Farm</td>\n",
       "      <td>3.0</td>\n",
       "      <td>2016</td>\n",
       "      <td>http://www.rogerebert.com/reviews/peter-and-th...</td>\n",
       "    </tr>\n",
       "    <tr>\n",
       "      <th>152</th>\n",
       "      <td>Off the Rails</td>\n",
       "      <td>3.0</td>\n",
       "      <td>2016</td>\n",
       "      <td>http://www.rogerebert.com/reviews/off-the-rail...</td>\n",
       "    </tr>\n",
       "    <tr>\n",
       "      <th>153</th>\n",
       "      <td>My Dead Boyfriend</td>\n",
       "      <td>1.0</td>\n",
       "      <td>2016</td>\n",
       "      <td>http://www.rogerebert.com/reviews/my-dead-boyf...</td>\n",
       "    </tr>\n",
       "    <tr>\n",
       "      <th>154</th>\n",
       "      <td>Rainbow Time</td>\n",
       "      <td>2.0</td>\n",
       "      <td>2016</td>\n",
       "      <td>http://www.rogerebert.com/reviews/rainbow-time...</td>\n",
       "    </tr>\n",
       "    <tr>\n",
       "      <th>155</th>\n",
       "      <td>Trash Fire</td>\n",
       "      <td>2.5</td>\n",
       "      <td>2016</td>\n",
       "      <td>http://www.rogerebert.com/reviews/trash-fire-2016</td>\n",
       "    </tr>\n",
       "    <tr>\n",
       "      <th>156</th>\n",
       "      <td>Don't Call Me Son</td>\n",
       "      <td>3.5</td>\n",
       "      <td>2016</td>\n",
       "      <td>http://www.rogerebert.com/reviews/dont-call-me...</td>\n",
       "    </tr>\n",
       "    <tr>\n",
       "      <th>157</th>\n",
       "      <td>The Eagle Huntress</td>\n",
       "      <td>3.0</td>\n",
       "      <td>2016</td>\n",
       "      <td>http://www.rogerebert.com/reviews/the-eagle-hu...</td>\n",
       "    </tr>\n",
       "    <tr>\n",
       "      <th>158</th>\n",
       "      <td>Sacro GRA</td>\n",
       "      <td>3.5</td>\n",
       "      <td>2013</td>\n",
       "      <td>http://www.rogerebert.com/reviews/sacro-gra-2013</td>\n",
       "    </tr>\n",
       "    <tr>\n",
       "      <th>159</th>\n",
       "      <td>I Am the Pretty Thing That Lives in the House</td>\n",
       "      <td>3.0</td>\n",
       "      <td>2016</td>\n",
       "      <td>http://www.rogerebert.com/reviews/i-am-the-pre...</td>\n",
       "    </tr>\n",
       "    <tr>\n",
       "      <th>160</th>\n",
       "      <td>Into the Inferno</td>\n",
       "      <td>3.0</td>\n",
       "      <td>2016</td>\n",
       "      <td>http://www.rogerebert.com/reviews/into-the-inf...</td>\n",
       "    </tr>\n",
       "    <tr>\n",
       "      <th>161</th>\n",
       "      <td>Gimme Danger</td>\n",
       "      <td>3.0</td>\n",
       "      <td>2016</td>\n",
       "      <td>http://www.rogerebert.com/reviews/gimme-danger...</td>\n",
       "    </tr>\n",
       "    <tr>\n",
       "      <th>162</th>\n",
       "      <td>By Sidney Lumet</td>\n",
       "      <td>3.0</td>\n",
       "      <td>2016</td>\n",
       "      <td>http://www.rogerebert.com/reviews/by-sidney-lu...</td>\n",
       "    </tr>\n",
       "    <tr>\n",
       "      <th>163</th>\n",
       "      <td>The Unspoken</td>\n",
       "      <td>1.0</td>\n",
       "      <td>2016</td>\n",
       "      <td>http://www.rogerebert.com/reviews/the-unspoken...</td>\n",
       "    </tr>\n",
       "    <tr>\n",
       "      <th>164</th>\n",
       "      <td>King Cobra</td>\n",
       "      <td>2.0</td>\n",
       "      <td>2016</td>\n",
       "      <td>http://www.rogerebert.com/reviews/king-cobra-2016</td>\n",
       "    </tr>\n",
       "    <tr>\n",
       "      <th>165</th>\n",
       "      <td>Inferno</td>\n",
       "      <td>2.0</td>\n",
       "      <td>2016</td>\n",
       "      <td>http://www.rogerebert.com/reviews/inferno-2016</td>\n",
       "    </tr>\n",
       "    <tr>\n",
       "      <th>166</th>\n",
       "      <td>Oasis: Supersonic</td>\n",
       "      <td>2.5</td>\n",
       "      <td>2016</td>\n",
       "      <td>http://www.rogerebert.com/reviews/oasis-supers...</td>\n",
       "    </tr>\n",
       "    <tr>\n",
       "      <th>167</th>\n",
       "      <td>Jack Reacher: Never Go Back</td>\n",
       "      <td>2.0</td>\n",
       "      <td>2016</td>\n",
       "      <td>http://www.rogerebert.com/reviews/jack-reacher...</td>\n",
       "    </tr>\n",
       "  </tbody>\n",
       "</table>\n",
       "<p>168 rows × 4 columns</p>\n",
       "</div>"
      ],
      "text/plain": [
       "                                                 Title  EbertStars  Year  \\\n",
       "0                                      Big Little Lies         3.5  2017   \n",
       "1                                  A Cure for Wellness         2.0  2017   \n",
       "2                                     A United Kingdom         2.5  2017   \n",
       "3                                  Fifty Shades Darker         2.0  2017   \n",
       "4                                                 Kedi         4.0  2017   \n",
       "5                                         Land of Mine         3.0  2017   \n",
       "6                        David Brent: Life on the Road         1.5  2017   \n",
       "7                               John Wick: Chapter Two         3.5  2017   \n",
       "8                                The Lego Batman Movie         2.5  2017   \n",
       "9                                                Rings         1.0  2017   \n",
       "10                                     War on Everyone         1.0  2017   \n",
       "11   Trumped: Inside the Greatest Political Upset o...         2.0  2017   \n",
       "12                                        The Comedian         2.0  2017   \n",
       "13         Journey to the West: The Demons Strike Back         3.0  2017   \n",
       "14                                             Wheeler         2.5  2017   \n",
       "15                                   Don't Knock Twice         1.5  2017   \n",
       "16                   This Is Everything: Gigi Gorgeous         4.0  2017   \n",
       "17                                     Youth in Oregon         2.0  2017   \n",
       "18                                   American Violence         0.5  2017   \n",
       "19                                          Dark Night         1.5  2017   \n",
       "20                                The Space Between Us         1.5  2017   \n",
       "21                                            Mr. Gaga         3.5  2017   \n",
       "22                                            The Lure         2.5  2017   \n",
       "23                    Resident Evil: The Final Chapter         3.0  2017   \n",
       "24                                        The Salesman         3.5  2017   \n",
       "25                                     A Dog's Purpose         1.5  2017   \n",
       "26                                            Behemoth         4.0  2017   \n",
       "27                            Paris 05:59: Théo & Hugo         2.5  2017   \n",
       "28                                        The Daughter         2.5  2017   \n",
       "29                                        I Am Michael         3.0  2017   \n",
       "..                                                 ...         ...   ...   \n",
       "138                                               Elle         4.0  2016   \n",
       "139                                        The Monster         3.0  2016   \n",
       "140                    Billy Lynn's Long Halftime Walk         2.0  2016   \n",
       "141                                   Come and Find Me         2.0  2016   \n",
       "142                   USS Indianapolis: Men of Courage         1.5  2016   \n",
       "143                                     The Love Witch         3.5  2016   \n",
       "144                               Disturbing the Peace         3.5  2016   \n",
       "145                                     Doctor Strange         2.5  2016   \n",
       "146                                             Loving         3.5  2016   \n",
       "147                                      Hacksaw Ridge         2.5  2016   \n",
       "148                                             Trolls         2.5  2016   \n",
       "149                                     The Ivory Game         3.0  2016   \n",
       "150                                        Dog Eat Dog         2.0  2016   \n",
       "151                                 Peter and the Farm         3.0  2016   \n",
       "152                                      Off the Rails         3.0  2016   \n",
       "153                                  My Dead Boyfriend         1.0  2016   \n",
       "154                                       Rainbow Time         2.0  2016   \n",
       "155                                         Trash Fire         2.5  2016   \n",
       "156                                  Don't Call Me Son         3.5  2016   \n",
       "157                                 The Eagle Huntress         3.0  2016   \n",
       "158                                          Sacro GRA         3.5  2013   \n",
       "159      I Am the Pretty Thing That Lives in the House         3.0  2016   \n",
       "160                                   Into the Inferno         3.0  2016   \n",
       "161                                       Gimme Danger         3.0  2016   \n",
       "162                                    By Sidney Lumet         3.0  2016   \n",
       "163                                       The Unspoken         1.0  2016   \n",
       "164                                         King Cobra         2.0  2016   \n",
       "165                                            Inferno         2.0  2016   \n",
       "166                                  Oasis: Supersonic         2.5  2016   \n",
       "167                        Jack Reacher: Never Go Back         2.0  2016   \n",
       "\n",
       "                                                   URL  \n",
       "0    http://www.rogerebert.com/reviews/big-little-l...  \n",
       "1    http://www.rogerebert.com/reviews/a-cure-for-w...  \n",
       "2    http://www.rogerebert.com/reviews/a-united-kin...  \n",
       "3    http://www.rogerebert.com/reviews/fifty-shades...  \n",
       "4          http://www.rogerebert.com/reviews/kedi-2017  \n",
       "5    http://www.rogerebert.com/reviews/land-of-mine...  \n",
       "6    http://www.rogerebert.com/reviews/david-brent-...  \n",
       "7    http://www.rogerebert.com/reviews/john-wick-ch...  \n",
       "8    http://www.rogerebert.com/reviews/the-lego-bat...  \n",
       "9         http://www.rogerebert.com/reviews/rings-2017  \n",
       "10   http://www.rogerebert.com/reviews/war-on-every...  \n",
       "11   http://www.rogerebert.com/reviews/trumped-insi...  \n",
       "12   http://www.rogerebert.com/reviews/the-comedian...  \n",
       "13   http://www.rogerebert.com/reviews/journey-to-t...  \n",
       "14      http://www.rogerebert.com/reviews/wheeler-2017  \n",
       "15   http://www.rogerebert.com/reviews/dont-knock-t...  \n",
       "16   http://www.rogerebert.com/reviews/this-is-ever...  \n",
       "17   http://www.rogerebert.com/reviews/youth-in-ore...  \n",
       "18   http://www.rogerebert.com/reviews/american-vio...  \n",
       "19   http://www.rogerebert.com/reviews/dark-night-2017  \n",
       "20   http://www.rogerebert.com/reviews/the-space-be...  \n",
       "21      http://www.rogerebert.com/reviews/mr-gaga-2017  \n",
       "22     http://www.rogerebert.com/reviews/the-lure-2017  \n",
       "23   http://www.rogerebert.com/reviews/resident-evi...  \n",
       "24   http://www.rogerebert.com/reviews/the-salesman...  \n",
       "25   http://www.rogerebert.com/reviews/a-dogs-purpo...  \n",
       "26     http://www.rogerebert.com/reviews/behemoth-2017  \n",
       "27   http://www.rogerebert.com/reviews/paris-0559-t...  \n",
       "28   http://www.rogerebert.com/reviews/the-daughter...  \n",
       "29   http://www.rogerebert.com/reviews/i-am-michael...  \n",
       "..                                                 ...  \n",
       "138        http://www.rogerebert.com/reviews/elle-2016  \n",
       "139  http://www.rogerebert.com/reviews/the-monster-...  \n",
       "140  http://www.rogerebert.com/reviews/billy-lynns-...  \n",
       "141  http://www.rogerebert.com/reviews/come-and-fin...  \n",
       "142  http://www.rogerebert.com/reviews/uss-indianap...  \n",
       "143  http://www.rogerebert.com/reviews/the-love-wit...  \n",
       "144  http://www.rogerebert.com/reviews/disturbing-t...  \n",
       "145  http://www.rogerebert.com/reviews/doctor-stran...  \n",
       "146      http://www.rogerebert.com/reviews/loving-2016  \n",
       "147  http://www.rogerebert.com/reviews/hacksaw-ridg...  \n",
       "148      http://www.rogerebert.com/reviews/trolls-2016  \n",
       "149  http://www.rogerebert.com/reviews/the-ivory-ga...  \n",
       "150  http://www.rogerebert.com/reviews/dog-eat-dog-...  \n",
       "151  http://www.rogerebert.com/reviews/peter-and-th...  \n",
       "152  http://www.rogerebert.com/reviews/off-the-rail...  \n",
       "153  http://www.rogerebert.com/reviews/my-dead-boyf...  \n",
       "154  http://www.rogerebert.com/reviews/rainbow-time...  \n",
       "155  http://www.rogerebert.com/reviews/trash-fire-2016  \n",
       "156  http://www.rogerebert.com/reviews/dont-call-me...  \n",
       "157  http://www.rogerebert.com/reviews/the-eagle-hu...  \n",
       "158   http://www.rogerebert.com/reviews/sacro-gra-2013  \n",
       "159  http://www.rogerebert.com/reviews/i-am-the-pre...  \n",
       "160  http://www.rogerebert.com/reviews/into-the-inf...  \n",
       "161  http://www.rogerebert.com/reviews/gimme-danger...  \n",
       "162  http://www.rogerebert.com/reviews/by-sidney-lu...  \n",
       "163  http://www.rogerebert.com/reviews/the-unspoken...  \n",
       "164  http://www.rogerebert.com/reviews/king-cobra-2016  \n",
       "165     http://www.rogerebert.com/reviews/inferno-2016  \n",
       "166  http://www.rogerebert.com/reviews/oasis-supers...  \n",
       "167  http://www.rogerebert.com/reviews/jack-reacher...  \n",
       "\n",
       "[168 rows x 4 columns]"
      ]
     },
     "execution_count": 24,
     "metadata": {},
     "output_type": "execute_result"
    }
   ],
   "source": [
    "review_df = scrape_eberts_review(all_reviews)"
   ]
  },
  {
   "cell_type": "code",
   "execution_count": 45,
   "metadata": {
    "collapsed": false
   },
   "outputs": [
    {
     "data": {
      "text/html": [
       "<div>\n",
       "<table border=\"1\" class=\"dataframe\">\n",
       "  <thead>\n",
       "    <tr style=\"text-align: right;\">\n",
       "      <th></th>\n",
       "      <th>Title</th>\n",
       "      <th>EbertStars</th>\n",
       "      <th>Year</th>\n",
       "      <th>URL</th>\n",
       "    </tr>\n",
       "  </thead>\n",
       "  <tbody>\n",
       "    <tr>\n",
       "      <th>0</th>\n",
       "      <td>Big Little Lies</td>\n",
       "      <td>3.5</td>\n",
       "      <td>2017</td>\n",
       "      <td>http://www.rogerebert.com/reviews/big-little-l...</td>\n",
       "    </tr>\n",
       "    <tr>\n",
       "      <th>1</th>\n",
       "      <td>A Cure for Wellness</td>\n",
       "      <td>2.0</td>\n",
       "      <td>2017</td>\n",
       "      <td>http://www.rogerebert.com/reviews/a-cure-for-w...</td>\n",
       "    </tr>\n",
       "    <tr>\n",
       "      <th>2</th>\n",
       "      <td>A United Kingdom</td>\n",
       "      <td>2.5</td>\n",
       "      <td>2017</td>\n",
       "      <td>http://www.rogerebert.com/reviews/a-united-kin...</td>\n",
       "    </tr>\n",
       "    <tr>\n",
       "      <th>3</th>\n",
       "      <td>Fifty Shades Darker</td>\n",
       "      <td>2.0</td>\n",
       "      <td>2017</td>\n",
       "      <td>http://www.rogerebert.com/reviews/fifty-shades...</td>\n",
       "    </tr>\n",
       "    <tr>\n",
       "      <th>4</th>\n",
       "      <td>Kedi</td>\n",
       "      <td>4.0</td>\n",
       "      <td>2017</td>\n",
       "      <td>http://www.rogerebert.com/reviews/kedi-2017</td>\n",
       "    </tr>\n",
       "  </tbody>\n",
       "</table>\n",
       "</div>"
      ],
      "text/plain": [
       "                 Title  EbertStars  Year  \\\n",
       "0      Big Little Lies         3.5  2017   \n",
       "1  A Cure for Wellness         2.0  2017   \n",
       "2     A United Kingdom         2.5  2017   \n",
       "3  Fifty Shades Darker         2.0  2017   \n",
       "4                 Kedi         4.0  2017   \n",
       "\n",
       "                                                 URL  \n",
       "0  http://www.rogerebert.com/reviews/big-little-l...  \n",
       "1  http://www.rogerebert.com/reviews/a-cure-for-w...  \n",
       "2  http://www.rogerebert.com/reviews/a-united-kin...  \n",
       "3  http://www.rogerebert.com/reviews/fifty-shades...  \n",
       "4        http://www.rogerebert.com/reviews/kedi-2017  "
      ]
     },
     "execution_count": 45,
     "metadata": {},
     "output_type": "execute_result"
    }
   ],
   "source": [
    "review_df.head()"
   ]
  },
  {
   "cell_type": "code",
   "execution_count": 41,
   "metadata": {
    "collapsed": true
   },
   "outputs": [],
   "source": [
    "def scrape_webpage(link):\n",
    "    \"\"\"\n",
    "    Parses each individual review page and returns list of key attributes.\n",
    "    :link = URL for review\n",
    "    \"\"\"\n",
    "    webpage = requests.get(link).text\n",
    "    soup = BeautifulSoup(webpage, 'lxml')\n",
    "\n",
    "    try:\n",
    "        mpaa = soup.find('p', {'class':'mpaa-rating'}).strong.text[6:]\n",
    "    except:\n",
    "        mpaa = ''\n",
    "\n",
    "    try: \n",
    "        runningtime = int(soup.find('p', {'class':'running-time'}).strong.text[:3].strip())\n",
    "    except:\n",
    "        runningtime = ''\n",
    "\n",
    "    try:\n",
    "        genres = soup.find('p', {'class':'genres'}).strong.text.replace(',', '').split()\n",
    "    except:\n",
    "        genres = []\n",
    "\n",
    "    try:\n",
    "        reviewbody = ' '.join([paragraph.text for paragraph in soup.find('div', {'itemprop':'reviewBody'}).find_all('p')])\n",
    "    except:\n",
    "        reviewbody = ''\n",
    "    \n",
    "    return [link, mpaa, runningtime, reviewbody]"
   ]
  },
  {
   "cell_type": "code",
   "execution_count": 42,
   "metadata": {
    "collapsed": false
   },
   "outputs": [
    {
     "name": "stderr",
     "output_type": "stream",
     "text": [
      "100%|██████████| 168/168 [02:04<00:00,  1.32it/s]\n"
     ]
    }
   ],
   "source": [
    "scraped_list = list()\n",
    "\n",
    "for movie in tqdm.tqdm(review_df['URL']):\n",
    "    scraped_list.append(scrape_webpage(movie))\n",
    "    time.sleep(0.5)\n",
    "\n",
    "review_content = pd.DataFrame(scraped_list, columns = ['URL', 'Rating', 'Runtime', 'Review'])"
   ]
  },
  {
   "cell_type": "code",
   "execution_count": 43,
   "metadata": {
    "collapsed": false
   },
   "outputs": [
    {
     "data": {
      "text/html": [
       "<div>\n",
       "<table border=\"1\" class=\"dataframe\">\n",
       "  <thead>\n",
       "    <tr style=\"text-align: right;\">\n",
       "      <th></th>\n",
       "      <th>URL</th>\n",
       "      <th>Rating</th>\n",
       "      <th>Runtime</th>\n",
       "      <th>Review</th>\n",
       "    </tr>\n",
       "  </thead>\n",
       "  <tbody>\n",
       "    <tr>\n",
       "      <th>0</th>\n",
       "      <td>http://www.rogerebert.com/reviews/big-little-l...</td>\n",
       "      <td>NR</td>\n",
       "      <td>420</td>\n",
       "      <td>HBO’s excellent “Big Little Lies,” based on th...</td>\n",
       "    </tr>\n",
       "    <tr>\n",
       "      <th>1</th>\n",
       "      <td>http://www.rogerebert.com/reviews/a-cure-for-w...</td>\n",
       "      <td>R</td>\n",
       "      <td>146</td>\n",
       "      <td>I keep forgetting the title of “A Cure for Wel...</td>\n",
       "    </tr>\n",
       "    <tr>\n",
       "      <th>2</th>\n",
       "      <td>http://www.rogerebert.com/reviews/a-united-kin...</td>\n",
       "      <td>PG-13</td>\n",
       "      <td>111</td>\n",
       "      <td>For a movie about two people who loved each ot...</td>\n",
       "    </tr>\n",
       "    <tr>\n",
       "      <th>3</th>\n",
       "      <td>http://www.rogerebert.com/reviews/fifty-shades...</td>\n",
       "      <td>R</td>\n",
       "      <td>118</td>\n",
       "      <td>Who would have guessed that, when he was a boy...</td>\n",
       "    </tr>\n",
       "    <tr>\n",
       "      <th>4</th>\n",
       "      <td>http://www.rogerebert.com/reviews/kedi-2017</td>\n",
       "      <td>NR</td>\n",
       "      <td></td>\n",
       "      <td>The people interviewed for \"Kedi,\" Ceyda Torun...</td>\n",
       "    </tr>\n",
       "  </tbody>\n",
       "</table>\n",
       "</div>"
      ],
      "text/plain": [
       "                                                 URL Rating Runtime  \\\n",
       "0  http://www.rogerebert.com/reviews/big-little-l...     NR     420   \n",
       "1  http://www.rogerebert.com/reviews/a-cure-for-w...      R     146   \n",
       "2  http://www.rogerebert.com/reviews/a-united-kin...  PG-13     111   \n",
       "3  http://www.rogerebert.com/reviews/fifty-shades...      R     118   \n",
       "4        http://www.rogerebert.com/reviews/kedi-2017     NR           \n",
       "\n",
       "                                              Review  \n",
       "0  HBO’s excellent “Big Little Lies,” based on th...  \n",
       "1  I keep forgetting the title of “A Cure for Wel...  \n",
       "2  For a movie about two people who loved each ot...  \n",
       "3  Who would have guessed that, when he was a boy...  \n",
       "4  The people interviewed for \"Kedi,\" Ceyda Torun...  "
      ]
     },
     "execution_count": 43,
     "metadata": {},
     "output_type": "execute_result"
    }
   ],
   "source": [
    "review_content.head()"
   ]
  },
  {
   "cell_type": "code",
   "execution_count": 44,
   "metadata": {
    "collapsed": true
   },
   "outputs": [],
   "source": [
    "pickle.dump(review_df, open('ebert_reviews.pkl', 'wb'))\n",
    "pickle.dump(review_content, open('review_content.pkl', 'wb'))"
   ]
  },
  {
   "cell_type": "code",
   "execution_count": 47,
   "metadata": {
    "collapsed": true
   },
   "outputs": [],
   "source": [
    "combined_df = pd.merge(review_df, review_content, how='left', on='URL')"
   ]
  },
  {
   "cell_type": "code",
   "execution_count": 48,
   "metadata": {
    "collapsed": false
   },
   "outputs": [
    {
     "data": {
      "text/html": [
       "<div>\n",
       "<table border=\"1\" class=\"dataframe\">\n",
       "  <thead>\n",
       "    <tr style=\"text-align: right;\">\n",
       "      <th></th>\n",
       "      <th>Title</th>\n",
       "      <th>EbertStars</th>\n",
       "      <th>Year</th>\n",
       "      <th>URL</th>\n",
       "      <th>Rating</th>\n",
       "      <th>Runtime</th>\n",
       "      <th>Review</th>\n",
       "    </tr>\n",
       "  </thead>\n",
       "  <tbody>\n",
       "    <tr>\n",
       "      <th>0</th>\n",
       "      <td>Big Little Lies</td>\n",
       "      <td>3.5</td>\n",
       "      <td>2017</td>\n",
       "      <td>http://www.rogerebert.com/reviews/big-little-l...</td>\n",
       "      <td>NR</td>\n",
       "      <td>420</td>\n",
       "      <td>HBO’s excellent “Big Little Lies,” based on th...</td>\n",
       "    </tr>\n",
       "    <tr>\n",
       "      <th>1</th>\n",
       "      <td>A Cure for Wellness</td>\n",
       "      <td>2.0</td>\n",
       "      <td>2017</td>\n",
       "      <td>http://www.rogerebert.com/reviews/a-cure-for-w...</td>\n",
       "      <td>R</td>\n",
       "      <td>146</td>\n",
       "      <td>I keep forgetting the title of “A Cure for Wel...</td>\n",
       "    </tr>\n",
       "    <tr>\n",
       "      <th>2</th>\n",
       "      <td>A United Kingdom</td>\n",
       "      <td>2.5</td>\n",
       "      <td>2017</td>\n",
       "      <td>http://www.rogerebert.com/reviews/a-united-kin...</td>\n",
       "      <td>PG-13</td>\n",
       "      <td>111</td>\n",
       "      <td>For a movie about two people who loved each ot...</td>\n",
       "    </tr>\n",
       "    <tr>\n",
       "      <th>3</th>\n",
       "      <td>Fifty Shades Darker</td>\n",
       "      <td>2.0</td>\n",
       "      <td>2017</td>\n",
       "      <td>http://www.rogerebert.com/reviews/fifty-shades...</td>\n",
       "      <td>R</td>\n",
       "      <td>118</td>\n",
       "      <td>Who would have guessed that, when he was a boy...</td>\n",
       "    </tr>\n",
       "    <tr>\n",
       "      <th>4</th>\n",
       "      <td>Kedi</td>\n",
       "      <td>4.0</td>\n",
       "      <td>2017</td>\n",
       "      <td>http://www.rogerebert.com/reviews/kedi-2017</td>\n",
       "      <td>NR</td>\n",
       "      <td></td>\n",
       "      <td>The people interviewed for \"Kedi,\" Ceyda Torun...</td>\n",
       "    </tr>\n",
       "  </tbody>\n",
       "</table>\n",
       "</div>"
      ],
      "text/plain": [
       "                 Title  EbertStars  Year  \\\n",
       "0      Big Little Lies         3.5  2017   \n",
       "1  A Cure for Wellness         2.0  2017   \n",
       "2     A United Kingdom         2.5  2017   \n",
       "3  Fifty Shades Darker         2.0  2017   \n",
       "4                 Kedi         4.0  2017   \n",
       "\n",
       "                                                 URL Rating Runtime  \\\n",
       "0  http://www.rogerebert.com/reviews/big-little-l...     NR     420   \n",
       "1  http://www.rogerebert.com/reviews/a-cure-for-w...      R     146   \n",
       "2  http://www.rogerebert.com/reviews/a-united-kin...  PG-13     111   \n",
       "3  http://www.rogerebert.com/reviews/fifty-shades...      R     118   \n",
       "4        http://www.rogerebert.com/reviews/kedi-2017     NR           \n",
       "\n",
       "                                              Review  \n",
       "0  HBO’s excellent “Big Little Lies,” based on th...  \n",
       "1  I keep forgetting the title of “A Cure for Wel...  \n",
       "2  For a movie about two people who loved each ot...  \n",
       "3  Who would have guessed that, when he was a boy...  \n",
       "4  The people interviewed for \"Kedi,\" Ceyda Torun...  "
      ]
     },
     "execution_count": 48,
     "metadata": {},
     "output_type": "execute_result"
    }
   ],
   "source": [
    "combined_df.head()"
   ]
  },
  {
   "cell_type": "markdown",
   "metadata": {},
   "source": [
    "# Process and Clean Data\n",
    "\n",
    "- identify types of variables"
   ]
  },
  {
   "cell_type": "markdown",
   "metadata": {},
   "source": [
    "Features from IMDB - [IMDB.py](http://imdbpy.sourceforge.net/)\n",
    "- genres\n",
    "- rating\n",
    "- number of votes\n",
    "- country\n",
    "- awards\n",
    "- metascore\n",
    "- number of reviews (user / critic)"
   ]
  },
  {
   "cell_type": "code",
   "execution_count": 68,
   "metadata": {
    "collapsed": true
   },
   "outputs": [],
   "source": [
    "df_rating = pd.get_dummies(combined_df['Rating'])"
   ]
  },
  {
   "cell_type": "code",
   "execution_count": 69,
   "metadata": {
    "collapsed": true
   },
   "outputs": [],
   "source": [
    "new_df = pd.concat([combined_df, df_rating], axis=1)"
   ]
  },
  {
   "cell_type": "code",
   "execution_count": 70,
   "metadata": {
    "collapsed": true
   },
   "outputs": [
    {
     "data": {
      "text/html": [
       "<div>\n",
       "<table border=\"1\" class=\"dataframe\">\n",
       "  <thead>\n",
       "    <tr style=\"text-align: right;\">\n",
       "      <th></th>\n",
       "      <th>Title</th>\n",
       "      <th>EbertStars</th>\n",
       "      <th>Year</th>\n",
       "      <th>URL</th>\n",
       "      <th>Rating</th>\n",
       "      <th>Runtime</th>\n",
       "      <th>Review</th>\n",
       "      <th></th>\n",
       "      <th>G</th>\n",
       "      <th>NR</th>\n",
       "      <th>PG</th>\n",
       "      <th>PG-13</th>\n",
       "      <th>R</th>\n",
       "    </tr>\n",
       "  </thead>\n",
       "  <tbody>\n",
       "    <tr>\n",
       "      <th>0</th>\n",
       "      <td>Big Little Lies</td>\n",
       "      <td>3.5</td>\n",
       "      <td>2017</td>\n",
       "      <td>http://www.rogerebert.com/reviews/big-little-l...</td>\n",
       "      <td>NR</td>\n",
       "      <td>420</td>\n",
       "      <td>HBO’s excellent “Big Little Lies,” based on th...</td>\n",
       "      <td>0.0</td>\n",
       "      <td>0.0</td>\n",
       "      <td>1.0</td>\n",
       "      <td>0.0</td>\n",
       "      <td>0.0</td>\n",
       "      <td>0.0</td>\n",
       "    </tr>\n",
       "    <tr>\n",
       "      <th>1</th>\n",
       "      <td>A Cure for Wellness</td>\n",
       "      <td>2.0</td>\n",
       "      <td>2017</td>\n",
       "      <td>http://www.rogerebert.com/reviews/a-cure-for-w...</td>\n",
       "      <td>R</td>\n",
       "      <td>146</td>\n",
       "      <td>I keep forgetting the title of “A Cure for Wel...</td>\n",
       "      <td>0.0</td>\n",
       "      <td>0.0</td>\n",
       "      <td>0.0</td>\n",
       "      <td>0.0</td>\n",
       "      <td>0.0</td>\n",
       "      <td>1.0</td>\n",
       "    </tr>\n",
       "    <tr>\n",
       "      <th>2</th>\n",
       "      <td>A United Kingdom</td>\n",
       "      <td>2.5</td>\n",
       "      <td>2017</td>\n",
       "      <td>http://www.rogerebert.com/reviews/a-united-kin...</td>\n",
       "      <td>PG-13</td>\n",
       "      <td>111</td>\n",
       "      <td>For a movie about two people who loved each ot...</td>\n",
       "      <td>0.0</td>\n",
       "      <td>0.0</td>\n",
       "      <td>0.0</td>\n",
       "      <td>0.0</td>\n",
       "      <td>1.0</td>\n",
       "      <td>0.0</td>\n",
       "    </tr>\n",
       "    <tr>\n",
       "      <th>3</th>\n",
       "      <td>Fifty Shades Darker</td>\n",
       "      <td>2.0</td>\n",
       "      <td>2017</td>\n",
       "      <td>http://www.rogerebert.com/reviews/fifty-shades...</td>\n",
       "      <td>R</td>\n",
       "      <td>118</td>\n",
       "      <td>Who would have guessed that, when he was a boy...</td>\n",
       "      <td>0.0</td>\n",
       "      <td>0.0</td>\n",
       "      <td>0.0</td>\n",
       "      <td>0.0</td>\n",
       "      <td>0.0</td>\n",
       "      <td>1.0</td>\n",
       "    </tr>\n",
       "    <tr>\n",
       "      <th>4</th>\n",
       "      <td>Kedi</td>\n",
       "      <td>4.0</td>\n",
       "      <td>2017</td>\n",
       "      <td>http://www.rogerebert.com/reviews/kedi-2017</td>\n",
       "      <td>NR</td>\n",
       "      <td></td>\n",
       "      <td>The people interviewed for \"Kedi,\" Ceyda Torun...</td>\n",
       "      <td>0.0</td>\n",
       "      <td>0.0</td>\n",
       "      <td>1.0</td>\n",
       "      <td>0.0</td>\n",
       "      <td>0.0</td>\n",
       "      <td>0.0</td>\n",
       "    </tr>\n",
       "  </tbody>\n",
       "</table>\n",
       "</div>"
      ],
      "text/plain": [
       "                 Title  EbertStars  Year  \\\n",
       "0      Big Little Lies         3.5  2017   \n",
       "1  A Cure for Wellness         2.0  2017   \n",
       "2     A United Kingdom         2.5  2017   \n",
       "3  Fifty Shades Darker         2.0  2017   \n",
       "4                 Kedi         4.0  2017   \n",
       "\n",
       "                                                 URL Rating Runtime  \\\n",
       "0  http://www.rogerebert.com/reviews/big-little-l...     NR     420   \n",
       "1  http://www.rogerebert.com/reviews/a-cure-for-w...      R     146   \n",
       "2  http://www.rogerebert.com/reviews/a-united-kin...  PG-13     111   \n",
       "3  http://www.rogerebert.com/reviews/fifty-shades...      R     118   \n",
       "4        http://www.rogerebert.com/reviews/kedi-2017     NR           \n",
       "\n",
       "                                              Review         G   NR   PG  \\\n",
       "0  HBO’s excellent “Big Little Lies,” based on th...  0.0  0.0  1.0  0.0   \n",
       "1  I keep forgetting the title of “A Cure for Wel...  0.0  0.0  0.0  0.0   \n",
       "2  For a movie about two people who loved each ot...  0.0  0.0  0.0  0.0   \n",
       "3  Who would have guessed that, when he was a boy...  0.0  0.0  0.0  0.0   \n",
       "4  The people interviewed for \"Kedi,\" Ceyda Torun...  0.0  0.0  1.0  0.0   \n",
       "\n",
       "   PG-13    R  \n",
       "0    0.0  0.0  \n",
       "1    0.0  1.0  \n",
       "2    1.0  0.0  \n",
       "3    0.0  1.0  \n",
       "4    0.0  0.0  "
      ]
     },
     "execution_count": 70,
     "metadata": {},
     "output_type": "execute_result"
    }
   ],
   "source": [
    "new_df.head()"
   ]
  },
  {
   "cell_type": "code",
   "execution_count": 72,
   "metadata": {
    "collapsed": false
   },
   "outputs": [],
   "source": [
    "def convert_year(row):\n",
    "    try:\n",
    "        year = int(row['Year'])\n",
    "        return year\n",
    "    except:\n",
    "        pass\n",
    "    \n",
    "def convert_runtime(row):\n",
    "    try:\n",
    "        runtime = int(row['Runtime'])\n",
    "        return runtime\n",
    "    except:\n",
    "        pass"
   ]
  },
  {
   "cell_type": "code",
   "execution_count": 74,
   "metadata": {
    "collapsed": false
   },
   "outputs": [],
   "source": [
    "new_df['year'] = new_df.apply(lambda x: convert_year(x), 1)"
   ]
  },
  {
   "cell_type": "code",
   "execution_count": 75,
   "metadata": {
    "collapsed": true
   },
   "outputs": [],
   "source": [
    "new_df['runtime'] = new_df.apply(lambda x: convert_runtime(x), 1)"
   ]
  },
  {
   "cell_type": "code",
   "execution_count": 77,
   "metadata": {
    "collapsed": false
   },
   "outputs": [
    {
     "data": {
      "text/plain": [
       "Title          object\n",
       "EbertStars    float64\n",
       "Year           object\n",
       "URL            object\n",
       "Rating         object\n",
       "Runtime        object\n",
       "Review         object\n",
       "              float64\n",
       "G             float64\n",
       "NR            float64\n",
       "PG            float64\n",
       "PG-13         float64\n",
       "R             float64\n",
       "year            int64\n",
       "runtime       float64\n",
       "dtype: object"
      ]
     },
     "execution_count": 77,
     "metadata": {},
     "output_type": "execute_result"
    }
   ],
   "source": [
    "new_df.dtypes"
   ]
  },
  {
   "cell_type": "code",
   "execution_count": 135,
   "metadata": {
    "collapsed": false
   },
   "outputs": [
    {
     "data": {
      "text/plain": [
       "0    3.0\n",
       "dtype: float64"
      ]
     },
     "execution_count": 135,
     "metadata": {},
     "output_type": "execute_result"
    }
   ],
   "source": [
    "new_df.EbertStars.mode()"
   ]
  },
  {
   "cell_type": "markdown",
   "metadata": {},
   "source": [
    "# Feature Engineering\n",
    "\n",
    "https://github.com/ozzieliu/metis-datascience/blob/master/Projects/02-Movies-Project-Luther/Ebertron-2-Data-Wrangling.ipynb"
   ]
  },
  {
   "cell_type": "code",
   "execution_count": null,
   "metadata": {
    "collapsed": true
   },
   "outputs": [],
   "source": []
  },
  {
   "cell_type": "markdown",
   "metadata": {},
   "source": [
    "# Database"
   ]
  },
  {
   "cell_type": "code",
   "execution_count": null,
   "metadata": {
    "collapsed": true
   },
   "outputs": [],
   "source": []
  },
  {
   "cell_type": "markdown",
   "metadata": {},
   "source": [
    "# EDA\n",
    "\n",
    "https://github.com/ozzieliu/metis-datascience/blob/master/Projects/02-Movies-Project-Luther/Ebertron-3-EDA-Regression.ipynb"
   ]
  },
  {
   "cell_type": "code",
   "execution_count": 86,
   "metadata": {
    "collapsed": true
   },
   "outputs": [
    {
     "data": {
      "text/html": [
       "<div>\n",
       "<table border=\"1\" class=\"dataframe\">\n",
       "  <thead>\n",
       "    <tr style=\"text-align: right;\">\n",
       "      <th></th>\n",
       "      <th>Title</th>\n",
       "      <th>EbertStars</th>\n",
       "      <th>Year</th>\n",
       "      <th>URL</th>\n",
       "      <th>Rating</th>\n",
       "      <th>Runtime</th>\n",
       "      <th>Review</th>\n",
       "      <th></th>\n",
       "      <th>G</th>\n",
       "      <th>NR</th>\n",
       "      <th>PG</th>\n",
       "      <th>PG-13</th>\n",
       "      <th>R</th>\n",
       "      <th>year</th>\n",
       "      <th>runtime</th>\n",
       "    </tr>\n",
       "  </thead>\n",
       "  <tbody>\n",
       "    <tr>\n",
       "      <th>1</th>\n",
       "      <td>A Cure for Wellness</td>\n",
       "      <td>2.0</td>\n",
       "      <td>2017</td>\n",
       "      <td>http://www.rogerebert.com/reviews/a-cure-for-w...</td>\n",
       "      <td>R</td>\n",
       "      <td>146</td>\n",
       "      <td>I keep forgetting the title of “A Cure for Wel...</td>\n",
       "      <td>0.0</td>\n",
       "      <td>0.0</td>\n",
       "      <td>0.0</td>\n",
       "      <td>0.0</td>\n",
       "      <td>0.0</td>\n",
       "      <td>1.0</td>\n",
       "      <td>2017</td>\n",
       "      <td>146.0</td>\n",
       "    </tr>\n",
       "    <tr>\n",
       "      <th>2</th>\n",
       "      <td>A United Kingdom</td>\n",
       "      <td>2.5</td>\n",
       "      <td>2017</td>\n",
       "      <td>http://www.rogerebert.com/reviews/a-united-kin...</td>\n",
       "      <td>PG-13</td>\n",
       "      <td>111</td>\n",
       "      <td>For a movie about two people who loved each ot...</td>\n",
       "      <td>0.0</td>\n",
       "      <td>0.0</td>\n",
       "      <td>0.0</td>\n",
       "      <td>0.0</td>\n",
       "      <td>1.0</td>\n",
       "      <td>0.0</td>\n",
       "      <td>2017</td>\n",
       "      <td>111.0</td>\n",
       "    </tr>\n",
       "    <tr>\n",
       "      <th>3</th>\n",
       "      <td>Fifty Shades Darker</td>\n",
       "      <td>2.0</td>\n",
       "      <td>2017</td>\n",
       "      <td>http://www.rogerebert.com/reviews/fifty-shades...</td>\n",
       "      <td>R</td>\n",
       "      <td>118</td>\n",
       "      <td>Who would have guessed that, when he was a boy...</td>\n",
       "      <td>0.0</td>\n",
       "      <td>0.0</td>\n",
       "      <td>0.0</td>\n",
       "      <td>0.0</td>\n",
       "      <td>0.0</td>\n",
       "      <td>1.0</td>\n",
       "      <td>2017</td>\n",
       "      <td>118.0</td>\n",
       "    </tr>\n",
       "    <tr>\n",
       "      <th>5</th>\n",
       "      <td>Land of Mine</td>\n",
       "      <td>3.0</td>\n",
       "      <td>2017</td>\n",
       "      <td>http://www.rogerebert.com/reviews/land-of-mine...</td>\n",
       "      <td>R</td>\n",
       "      <td>100</td>\n",
       "      <td>When we first see Sgt. Rasmussen (Roland Mølle...</td>\n",
       "      <td>0.0</td>\n",
       "      <td>0.0</td>\n",
       "      <td>0.0</td>\n",
       "      <td>0.0</td>\n",
       "      <td>0.0</td>\n",
       "      <td>1.0</td>\n",
       "      <td>2017</td>\n",
       "      <td>100.0</td>\n",
       "    </tr>\n",
       "    <tr>\n",
       "      <th>6</th>\n",
       "      <td>David Brent: Life on the Road</td>\n",
       "      <td>1.5</td>\n",
       "      <td>2017</td>\n",
       "      <td>http://www.rogerebert.com/reviews/david-brent-...</td>\n",
       "      <td>NR</td>\n",
       "      <td>96</td>\n",
       "      <td>Devotees of David Brent, the foot-in-mouth com...</td>\n",
       "      <td>0.0</td>\n",
       "      <td>0.0</td>\n",
       "      <td>1.0</td>\n",
       "      <td>0.0</td>\n",
       "      <td>0.0</td>\n",
       "      <td>0.0</td>\n",
       "      <td>2017</td>\n",
       "      <td>96.0</td>\n",
       "    </tr>\n",
       "  </tbody>\n",
       "</table>\n",
       "</div>"
      ],
      "text/plain": [
       "                           Title  EbertStars  Year  \\\n",
       "1            A Cure for Wellness         2.0  2017   \n",
       "2               A United Kingdom         2.5  2017   \n",
       "3            Fifty Shades Darker         2.0  2017   \n",
       "5                   Land of Mine         3.0  2017   \n",
       "6  David Brent: Life on the Road         1.5  2017   \n",
       "\n",
       "                                                 URL Rating Runtime  \\\n",
       "1  http://www.rogerebert.com/reviews/a-cure-for-w...      R     146   \n",
       "2  http://www.rogerebert.com/reviews/a-united-kin...  PG-13     111   \n",
       "3  http://www.rogerebert.com/reviews/fifty-shades...      R     118   \n",
       "5  http://www.rogerebert.com/reviews/land-of-mine...      R     100   \n",
       "6  http://www.rogerebert.com/reviews/david-brent-...     NR      96   \n",
       "\n",
       "                                              Review         G   NR   PG  \\\n",
       "1  I keep forgetting the title of “A Cure for Wel...  0.0  0.0  0.0  0.0   \n",
       "2  For a movie about two people who loved each ot...  0.0  0.0  0.0  0.0   \n",
       "3  Who would have guessed that, when he was a boy...  0.0  0.0  0.0  0.0   \n",
       "5  When we first see Sgt. Rasmussen (Roland Mølle...  0.0  0.0  0.0  0.0   \n",
       "6  Devotees of David Brent, the foot-in-mouth com...  0.0  0.0  1.0  0.0   \n",
       "\n",
       "   PG-13    R  year  runtime  \n",
       "1    0.0  1.0  2017    146.0  \n",
       "2    1.0  0.0  2017    111.0  \n",
       "3    0.0  1.0  2017    118.0  \n",
       "5    0.0  1.0  2017    100.0  \n",
       "6    0.0  0.0  2017     96.0  "
      ]
     },
     "execution_count": 86,
     "metadata": {},
     "output_type": "execute_result"
    }
   ],
   "source": [
    "new_df.head()"
   ]
  },
  {
   "cell_type": "code",
   "execution_count": 126,
   "metadata": {
    "collapsed": true
   },
   "outputs": [
    {
     "data": {
      "image/png": "[encoded data removed]",
      "text/plain": [
       "<matplotlib.figure.Figure at 0x11d058518>"
      ]
     },
     "metadata": {},
     "output_type": "display_data"
    }
   ],
   "source": [
    "new_df['EbertStars'].hist()\n",
    "plt.title('Histogram of Ratings')\n",
    "plt.xlabel('Ebert Rating')\n",
    "plt.ylabel('Count')\n",
    "plt.show()"
   ]
  },
  {
   "cell_type": "code",
   "execution_count": 89,
   "metadata": {
    "collapsed": true
   },
   "outputs": [
    {
     "data": {
      "text/plain": [
       "<matplotlib.axes._subplots.AxesSubplot at 0x119fcaac8>"
      ]
     },
     "execution_count": 89,
     "metadata": {},
     "output_type": "execute_result"
    },
    {
     "data": {
      "image/png": "[encoded data removed]",
      "text/plain": [
       "<matplotlib.figure.Figure at 0x118884dd8>"
      ]
     },
     "metadata": {},
     "output_type": "display_data"
    }
   ],
   "source": [
    "new_df.plot.scatter(x='runtime', y='EbertStars')"
   ]
  },
  {
   "cell_type": "code",
   "execution_count": 90,
   "metadata": {
    "collapsed": true
   },
   "outputs": [],
   "source": [
    "new_df = new_df[new_df['runtime'] < 250]"
   ]
  },
  {
   "cell_type": "code",
   "execution_count": 95,
   "metadata": {
    "collapsed": true
   },
   "outputs": [
    {
     "data": {
      "text/plain": [
       "R        50\n",
       "NR       48\n",
       "PG-13    30\n",
       "         17\n",
       "PG        6\n",
       "G         1\n",
       "Name: Rating, dtype: int64"
      ]
     },
     "execution_count": 95,
     "metadata": {},
     "output_type": "execute_result"
    }
   ],
   "source": [
    "new_df.Rating.value_counts()"
   ]
  },
  {
   "cell_type": "code",
   "execution_count": 113,
   "metadata": {
    "collapsed": false
   },
   "outputs": [],
   "source": [
    "new_df = new_df.rename(columns={'PG-13': 'PG_13'})"
   ]
  },
  {
   "cell_type": "markdown",
   "metadata": {},
   "source": [
    "# Modeling\n",
    "\n",
    "- pca\n",
    "- simple linear, multiple linear (check for multicolinearity), check for outliers\n",
    "- placeholder for model selection, regularization, and non-linear methods (poly, trees, knn)\n",
    "- how good is the model (r2)\n",
    "- how significant is the model \n",
    "- how significant are the coefficients\n",
    "- model evaluation (hold-out 3 sets, evaluation metrics)"
   ]
  },
  {
   "cell_type": "code",
   "execution_count": 114,
   "metadata": {
    "collapsed": true
   },
   "outputs": [],
   "source": [
    "import statsmodels.formula.api as smf\n",
    "import numpy as np"
   ]
  },
  {
   "cell_type": "code",
   "execution_count": 116,
   "metadata": {
    "collapsed": false
   },
   "outputs": [],
   "source": [
    "model_df = new_df[['runtime', 'G', 'NR', 'PG', 'PG_13','R','EbertStars']]"
   ]
  },
  {
   "cell_type": "code",
   "execution_count": 120,
   "metadata": {
    "collapsed": false
   },
   "outputs": [
    {
     "data": {
      "text/html": [
       "<div>\n",
       "<table border=\"1\" class=\"dataframe\">\n",
       "  <thead>\n",
       "    <tr style=\"text-align: right;\">\n",
       "      <th></th>\n",
       "      <th>runtime</th>\n",
       "      <th>G</th>\n",
       "      <th>NR</th>\n",
       "      <th>PG</th>\n",
       "      <th>PG_13</th>\n",
       "      <th>R</th>\n",
       "      <th>EbertStars</th>\n",
       "    </tr>\n",
       "  </thead>\n",
       "  <tbody>\n",
       "    <tr>\n",
       "      <th>runtime</th>\n",
       "      <td>1.000000</td>\n",
       "      <td>-0.081251</td>\n",
       "      <td>-0.343071</td>\n",
       "      <td>-0.032473</td>\n",
       "      <td>0.252139</td>\n",
       "      <td>0.210774</td>\n",
       "      <td>0.164540</td>\n",
       "    </tr>\n",
       "    <tr>\n",
       "      <th>G</th>\n",
       "      <td>-0.081251</td>\n",
       "      <td>1.000000</td>\n",
       "      <td>-0.055286</td>\n",
       "      <td>-0.016497</td>\n",
       "      <td>-0.040355</td>\n",
       "      <td>-0.056977</td>\n",
       "      <td>0.040496</td>\n",
       "    </tr>\n",
       "    <tr>\n",
       "      <th>NR</th>\n",
       "      <td>-0.343071</td>\n",
       "      <td>-0.055286</td>\n",
       "      <td>1.000000</td>\n",
       "      <td>-0.137722</td>\n",
       "      <td>-0.336887</td>\n",
       "      <td>-0.475651</td>\n",
       "      <td>0.079921</td>\n",
       "    </tr>\n",
       "    <tr>\n",
       "      <th>PG</th>\n",
       "      <td>-0.032473</td>\n",
       "      <td>-0.016497</td>\n",
       "      <td>-0.137722</td>\n",
       "      <td>1.000000</td>\n",
       "      <td>-0.100526</td>\n",
       "      <td>-0.141933</td>\n",
       "      <td>-0.007870</td>\n",
       "    </tr>\n",
       "    <tr>\n",
       "      <th>PG_13</th>\n",
       "      <td>0.252139</td>\n",
       "      <td>-0.040355</td>\n",
       "      <td>-0.336887</td>\n",
       "      <td>-0.100526</td>\n",
       "      <td>1.000000</td>\n",
       "      <td>-0.347189</td>\n",
       "      <td>-0.019251</td>\n",
       "    </tr>\n",
       "    <tr>\n",
       "      <th>R</th>\n",
       "      <td>0.210774</td>\n",
       "      <td>-0.056977</td>\n",
       "      <td>-0.475651</td>\n",
       "      <td>-0.141933</td>\n",
       "      <td>-0.347189</td>\n",
       "      <td>1.000000</td>\n",
       "      <td>-0.177414</td>\n",
       "    </tr>\n",
       "    <tr>\n",
       "      <th>EbertStars</th>\n",
       "      <td>0.164540</td>\n",
       "      <td>0.040496</td>\n",
       "      <td>0.079921</td>\n",
       "      <td>-0.007870</td>\n",
       "      <td>-0.019251</td>\n",
       "      <td>-0.177414</td>\n",
       "      <td>1.000000</td>\n",
       "    </tr>\n",
       "  </tbody>\n",
       "</table>\n",
       "</div>"
      ],
      "text/plain": [
       "             runtime         G        NR        PG     PG_13         R  \\\n",
       "runtime     1.000000 -0.081251 -0.343071 -0.032473  0.252139  0.210774   \n",
       "G          -0.081251  1.000000 -0.055286 -0.016497 -0.040355 -0.056977   \n",
       "NR         -0.343071 -0.055286  1.000000 -0.137722 -0.336887 -0.475651   \n",
       "PG         -0.032473 -0.016497 -0.137722  1.000000 -0.100526 -0.141933   \n",
       "PG_13       0.252139 -0.040355 -0.336887 -0.100526  1.000000 -0.347189   \n",
       "R           0.210774 -0.056977 -0.475651 -0.141933 -0.347189  1.000000   \n",
       "EbertStars  0.164540  0.040496  0.079921 -0.007870 -0.019251 -0.177414   \n",
       "\n",
       "            EbertStars  \n",
       "runtime       0.164540  \n",
       "G             0.040496  \n",
       "NR            0.079921  \n",
       "PG           -0.007870  \n",
       "PG_13        -0.019251  \n",
       "R            -0.177414  \n",
       "EbertStars    1.000000  "
      ]
     },
     "execution_count": 120,
     "metadata": {},
     "output_type": "execute_result"
    }
   ],
   "source": [
    "model_df.corr()"
   ]
  },
  {
   "cell_type": "code",
   "execution_count": 119,
   "metadata": {
    "collapsed": false
   },
   "outputs": [
    {
     "data": {
      "text/html": [
       "<table class=\"simpletable\">\n",
       "<caption>OLS Regression Results</caption>\n",
       "<tr>\n",
       "  <th>Dep. Variable:</th>       <td>EbertStars</td>    <th>  R-squared:         </th> <td>   0.115</td>\n",
       "</tr>\n",
       "<tr>\n",
       "  <th>Model:</th>                   <td>OLS</td>       <th>  Adj. R-squared:    </th> <td>   0.078</td>\n",
       "</tr>\n",
       "<tr>\n",
       "  <th>Method:</th>             <td>Least Squares</td>  <th>  F-statistic:       </th> <td>   3.133</td>\n",
       "</tr>\n",
       "<tr>\n",
       "  <th>Date:</th>             <td>Fri, 17 Feb 2017</td> <th>  Prob (F-statistic):</th>  <td>0.00644</td>\n",
       "</tr>\n",
       "<tr>\n",
       "  <th>Time:</th>                 <td>15:50:56</td>     <th>  Log-Likelihood:    </th> <td> -195.72</td>\n",
       "</tr>\n",
       "<tr>\n",
       "  <th>No. Observations:</th>      <td>   152</td>      <th>  AIC:               </th> <td>   405.4</td>\n",
       "</tr>\n",
       "<tr>\n",
       "  <th>Df Residuals:</th>          <td>   145</td>      <th>  BIC:               </th> <td>   426.6</td>\n",
       "</tr>\n",
       "<tr>\n",
       "  <th>Df Model:</th>              <td>     6</td>      <th>                     </th>     <td> </td>   \n",
       "</tr>\n",
       "<tr>\n",
       "  <th>Covariance Type:</th>      <td>nonrobust</td>    <th>                     </th>     <td> </td>   \n",
       "</tr>\n",
       "</table>\n",
       "<table class=\"simpletable\">\n",
       "<tr>\n",
       "      <td></td>         <th>coef</th>     <th>std err</th>      <th>t</th>      <th>P>|t|</th> <th>[95.0% Conf. Int.]</th> \n",
       "</tr>\n",
       "<tr>\n",
       "  <th>Intercept</th> <td>    1.4648</td> <td>    0.517</td> <td>    2.834</td> <td> 0.005</td> <td>    0.443     2.486</td>\n",
       "</tr>\n",
       "<tr>\n",
       "  <th>runtime</th>   <td>    0.0151</td> <td>    0.005</td> <td>    3.212</td> <td> 0.002</td> <td>    0.006     0.024</td>\n",
       "</tr>\n",
       "<tr>\n",
       "  <th>G</th>         <td>    0.2244</td> <td>    0.926</td> <td>    0.242</td> <td> 0.809</td> <td>   -1.606     2.054</td>\n",
       "</tr>\n",
       "<tr>\n",
       "  <th>NR</th>        <td>   -0.2569</td> <td>    0.254</td> <td>   -1.010</td> <td> 0.314</td> <td>   -0.759     0.246</td>\n",
       "</tr>\n",
       "<tr>\n",
       "  <th>PG</th>        <td>   -0.4916</td> <td>    0.426</td> <td>   -1.153</td> <td> 0.251</td> <td>   -1.334     0.351</td>\n",
       "</tr>\n",
       "<tr>\n",
       "  <th>PG_13</th>     <td>   -0.6638</td> <td>    0.279</td> <td>   -2.378</td> <td> 0.019</td> <td>   -1.216    -0.112</td>\n",
       "</tr>\n",
       "<tr>\n",
       "  <th>R</th>         <td>   -0.8104</td> <td>    0.256</td> <td>   -3.168</td> <td> 0.002</td> <td>   -1.316    -0.305</td>\n",
       "</tr>\n",
       "</table>\n",
       "<table class=\"simpletable\">\n",
       "<tr>\n",
       "  <th>Omnibus:</th>       <td> 8.479</td> <th>  Durbin-Watson:     </th> <td>   1.930</td>\n",
       "</tr>\n",
       "<tr>\n",
       "  <th>Prob(Omnibus):</th> <td> 0.014</td> <th>  Jarque-Bera (JB):  </th> <td>   4.505</td>\n",
       "</tr>\n",
       "<tr>\n",
       "  <th>Skew:</th>          <td>-0.207</td> <th>  Prob(JB):          </th> <td>   0.105</td>\n",
       "</tr>\n",
       "<tr>\n",
       "  <th>Kurtosis:</th>      <td> 2.266</td> <th>  Cond. No.          </th> <td>1.36e+03</td>\n",
       "</tr>\n",
       "</table>"
      ],
      "text/plain": [
       "<class 'statsmodels.iolib.summary.Summary'>\n",
       "\"\"\"\n",
       "                            OLS Regression Results                            \n",
       "==============================================================================\n",
       "Dep. Variable:             EbertStars   R-squared:                       0.115\n",
       "Model:                            OLS   Adj. R-squared:                  0.078\n",
       "Method:                 Least Squares   F-statistic:                     3.133\n",
       "Date:                Fri, 17 Feb 2017   Prob (F-statistic):            0.00644\n",
       "Time:                        15:50:56   Log-Likelihood:                -195.72\n",
       "No. Observations:                 152   AIC:                             405.4\n",
       "Df Residuals:                     145   BIC:                             426.6\n",
       "Df Model:                           6                                         \n",
       "Covariance Type:            nonrobust                                         \n",
       "==============================================================================\n",
       "                 coef    std err          t      P>|t|      [95.0% Conf. Int.]\n",
       "------------------------------------------------------------------------------\n",
       "Intercept      1.4648      0.517      2.834      0.005         0.443     2.486\n",
       "runtime        0.0151      0.005      3.212      0.002         0.006     0.024\n",
       "G              0.2244      0.926      0.242      0.809        -1.606     2.054\n",
       "NR            -0.2569      0.254     -1.010      0.314        -0.759     0.246\n",
       "PG            -0.4916      0.426     -1.153      0.251        -1.334     0.351\n",
       "PG_13         -0.6638      0.279     -2.378      0.019        -1.216    -0.112\n",
       "R             -0.8104      0.256     -3.168      0.002        -1.316    -0.305\n",
       "==============================================================================\n",
       "Omnibus:                        8.479   Durbin-Watson:                   1.930\n",
       "Prob(Omnibus):                  0.014   Jarque-Bera (JB):                4.505\n",
       "Skew:                          -0.207   Prob(JB):                        0.105\n",
       "Kurtosis:                       2.266   Cond. No.                     1.36e+03\n",
       "==============================================================================\n",
       "\n",
       "Warnings:\n",
       "[1] Standard Errors assume that the covariance matrix of the errors is correctly specified.\n",
       "[2] The condition number is large, 1.36e+03. This might indicate that there are\n",
       "strong multicollinearity or other numerical problems.\n",
       "\"\"\""
      ]
     },
     "execution_count": 119,
     "metadata": {},
     "output_type": "execute_result"
    }
   ],
   "source": [
    "model = smf.ols(formula='EbertStars ~ runtime + G + NR + PG + PG_13 + R', data=model_df)\n",
    "results = model.fit()\n",
    "results.summary()"
   ]
  },
  {
   "cell_type": "code",
   "execution_count": 131,
   "metadata": {
    "collapsed": true
   },
   "outputs": [],
   "source": [
    "def half_round(x, prec=1, base=.5):\n",
    "    return round(base * round(float(x) / base), prec)"
   ]
  },
  {
   "cell_type": "code",
   "execution_count": 136,
   "metadata": {
    "collapsed": true
   },
   "outputs": [],
   "source": [
    "from sklearn.model_selection import train_test_split\n",
    "\n",
    "train, test = train_test_split(model_df, test_size=0.33, random_state=42)"
   ]
  },
  {
   "cell_type": "code",
   "execution_count": 137,
   "metadata": {
    "collapsed": true
   },
   "outputs": [
    {
     "data": {
      "text/html": [
       "<table class=\"simpletable\">\n",
       "<caption>OLS Regression Results</caption>\n",
       "<tr>\n",
       "  <th>Dep. Variable:</th>       <td>EbertStars</td>    <th>  R-squared:         </th> <td>   0.177</td>\n",
       "</tr>\n",
       "<tr>\n",
       "  <th>Model:</th>                   <td>OLS</td>       <th>  Adj. R-squared:    </th> <td>   0.124</td>\n",
       "</tr>\n",
       "<tr>\n",
       "  <th>Method:</th>             <td>Least Squares</td>  <th>  F-statistic:       </th> <td>   3.364</td>\n",
       "</tr>\n",
       "<tr>\n",
       "  <th>Date:</th>             <td>Fri, 17 Feb 2017</td> <th>  Prob (F-statistic):</th>  <td>0.00477</td>\n",
       "</tr>\n",
       "<tr>\n",
       "  <th>Time:</th>                 <td>15:56:23</td>     <th>  Log-Likelihood:    </th> <td> -123.12</td>\n",
       "</tr>\n",
       "<tr>\n",
       "  <th>No. Observations:</th>      <td>   101</td>      <th>  AIC:               </th> <td>   260.2</td>\n",
       "</tr>\n",
       "<tr>\n",
       "  <th>Df Residuals:</th>          <td>    94</td>      <th>  BIC:               </th> <td>   278.5</td>\n",
       "</tr>\n",
       "<tr>\n",
       "  <th>Df Model:</th>              <td>     6</td>      <th>                     </th>     <td> </td>   \n",
       "</tr>\n",
       "<tr>\n",
       "  <th>Covariance Type:</th>      <td>nonrobust</td>    <th>                     </th>     <td> </td>   \n",
       "</tr>\n",
       "</table>\n",
       "<table class=\"simpletable\">\n",
       "<tr>\n",
       "      <td></td>         <th>coef</th>     <th>std err</th>      <th>t</th>      <th>P>|t|</th> <th>[95.0% Conf. Int.]</th> \n",
       "</tr>\n",
       "<tr>\n",
       "  <th>Intercept</th> <td>    1.3472</td> <td>    0.557</td> <td>    2.418</td> <td> 0.018</td> <td>    0.241     2.453</td>\n",
       "</tr>\n",
       "<tr>\n",
       "  <th>runtime</th>   <td>    0.0159</td> <td>    0.005</td> <td>    3.108</td> <td> 0.002</td> <td>    0.006     0.026</td>\n",
       "</tr>\n",
       "<tr>\n",
       "  <th>G</th>         <td>    0.2671</td> <td>    0.881</td> <td>    0.303</td> <td> 0.762</td> <td>   -1.482     2.016</td>\n",
       "</tr>\n",
       "<tr>\n",
       "  <th>NR</th>        <td>   -0.0450</td> <td>    0.282</td> <td>   -0.160</td> <td> 0.873</td> <td>   -0.605     0.515</td>\n",
       "</tr>\n",
       "<tr>\n",
       "  <th>PG</th>        <td>   -0.4718</td> <td>    0.481</td> <td>   -0.980</td> <td> 0.330</td> <td>   -1.428     0.484</td>\n",
       "</tr>\n",
       "<tr>\n",
       "  <th>PG_13</th>     <td>   -0.7268</td> <td>    0.299</td> <td>   -2.427</td> <td> 0.017</td> <td>   -1.321    -0.132</td>\n",
       "</tr>\n",
       "<tr>\n",
       "  <th>R</th>         <td>   -0.8160</td> <td>    0.273</td> <td>   -2.988</td> <td> 0.004</td> <td>   -1.358    -0.274</td>\n",
       "</tr>\n",
       "</table>\n",
       "<table class=\"simpletable\">\n",
       "<tr>\n",
       "  <th>Omnibus:</th>       <td> 5.982</td> <th>  Durbin-Watson:     </th> <td>   2.126</td>\n",
       "</tr>\n",
       "<tr>\n",
       "  <th>Prob(Omnibus):</th> <td> 0.050</td> <th>  Jarque-Bera (JB):  </th> <td>   2.957</td>\n",
       "</tr>\n",
       "<tr>\n",
       "  <th>Skew:</th>          <td>-0.143</td> <th>  Prob(JB):          </th> <td>   0.228</td>\n",
       "</tr>\n",
       "<tr>\n",
       "  <th>Kurtosis:</th>      <td> 2.212</td> <th>  Cond. No.          </th> <td>1.13e+03</td>\n",
       "</tr>\n",
       "</table>"
      ],
      "text/plain": [
       "<class 'statsmodels.iolib.summary.Summary'>\n",
       "\"\"\"\n",
       "                            OLS Regression Results                            \n",
       "==============================================================================\n",
       "Dep. Variable:             EbertStars   R-squared:                       0.177\n",
       "Model:                            OLS   Adj. R-squared:                  0.124\n",
       "Method:                 Least Squares   F-statistic:                     3.364\n",
       "Date:                Fri, 17 Feb 2017   Prob (F-statistic):            0.00477\n",
       "Time:                        15:56:23   Log-Likelihood:                -123.12\n",
       "No. Observations:                 101   AIC:                             260.2\n",
       "Df Residuals:                      94   BIC:                             278.5\n",
       "Df Model:                           6                                         \n",
       "Covariance Type:            nonrobust                                         \n",
       "==============================================================================\n",
       "                 coef    std err          t      P>|t|      [95.0% Conf. Int.]\n",
       "------------------------------------------------------------------------------\n",
       "Intercept      1.3472      0.557      2.418      0.018         0.241     2.453\n",
       "runtime        0.0159      0.005      3.108      0.002         0.006     0.026\n",
       "G              0.2671      0.881      0.303      0.762        -1.482     2.016\n",
       "NR            -0.0450      0.282     -0.160      0.873        -0.605     0.515\n",
       "PG            -0.4718      0.481     -0.980      0.330        -1.428     0.484\n",
       "PG_13         -0.7268      0.299     -2.427      0.017        -1.321    -0.132\n",
       "R             -0.8160      0.273     -2.988      0.004        -1.358    -0.274\n",
       "==============================================================================\n",
       "Omnibus:                        5.982   Durbin-Watson:                   2.126\n",
       "Prob(Omnibus):                  0.050   Jarque-Bera (JB):                2.957\n",
       "Skew:                          -0.143   Prob(JB):                        0.228\n",
       "Kurtosis:                       2.212   Cond. No.                     1.13e+03\n",
       "==============================================================================\n",
       "\n",
       "Warnings:\n",
       "[1] Standard Errors assume that the covariance matrix of the errors is correctly specified.\n",
       "[2] The condition number is large, 1.13e+03. This might indicate that there are\n",
       "strong multicollinearity or other numerical problems.\n",
       "\"\"\""
      ]
     },
     "execution_count": 137,
     "metadata": {},
     "output_type": "execute_result"
    }
   ],
   "source": [
    "model = smf.ols(formula='EbertStars ~ runtime + G + NR + PG + PG_13 + R', data=train)\n",
    "results = model.fit()\n",
    "results.summary()"
   ]
  },
  {
   "cell_type": "code",
   "execution_count": 142,
   "metadata": {
    "collapsed": false
   },
   "outputs": [
    {
     "data": {
      "text/plain": [
       "Intercept    1.347174\n",
       "runtime      0.015928\n",
       "G            0.267112\n",
       "NR          -0.045026\n",
       "PG          -0.471804\n",
       "PG_13       -0.726775\n",
       "R           -0.815965\n",
       "dtype: float64"
      ]
     },
     "execution_count": 142,
     "metadata": {},
     "output_type": "execute_result"
    }
   ],
   "source": [
    "results.params"
   ]
  },
  {
   "cell_type": "code",
   "execution_count": 138,
   "metadata": {
    "collapsed": true
   },
   "outputs": [],
   "source": [
    "coefficients = results.params"
   ]
  },
  {
   "cell_type": "code",
   "execution_count": 144,
   "metadata": {
    "collapsed": false
   },
   "outputs": [],
   "source": [
    "test.insert(0, 'intercept', 1)"
   ]
  },
  {
   "cell_type": "code",
   "execution_count": 146,
   "metadata": {
    "collapsed": false
   },
   "outputs": [],
   "source": [
    "y_true = test['EbertStars']\n",
    "y_pred = np.dot(test.drop('EbertStars', 1), coefficients)"
   ]
  },
  {
   "cell_type": "code",
   "execution_count": 148,
   "metadata": {
    "collapsed": false
   },
   "outputs": [],
   "source": [
    "# baseline\n",
    "baseline = [3.0] * len(y_true)"
   ]
  },
  {
   "cell_type": "code",
   "execution_count": 149,
   "metadata": {
    "collapsed": false
   },
   "outputs": [
    {
     "name": "stdout",
     "output_type": "stream",
     "text": [
      "Baseline Algorithm Error:  1.21568627451\n"
     ]
    }
   ],
   "source": [
    "from sklearn.metrics import mean_squared_error\n",
    "\n",
    "baseline_error = mean_squared_error(y_true, baseline)\n",
    "print('Baseline Algorithm Error: ', baseline_error)"
   ]
  },
  {
   "cell_type": "code",
   "execution_count": 151,
   "metadata": {
    "collapsed": true
   },
   "outputs": [],
   "source": [
    "y_pred_round = [half_round(y) for y in y_pred]"
   ]
  },
  {
   "cell_type": "code",
   "execution_count": 152,
   "metadata": {
    "collapsed": false
   },
   "outputs": [
    {
     "name": "stdout",
     "output_type": "stream",
     "text": [
      "Linear Regression Error:  1.08823529412\n"
     ]
    }
   ],
   "source": [
    "model_error = mean_squared_error(y_true, y_pred_round)\n",
    "print('Linear Regression Error: ', model_error)"
   ]
  },
  {
   "cell_type": "markdown",
   "metadata": {},
   "source": [
    "# Visuals\n",
    "\n",
    "http://statsmodels.sourceforge.net/devel/examples/notebooks/generated/example_regression_plots.html"
   ]
  },
  {
   "cell_type": "code",
   "execution_count": 154,
   "metadata": {
    "collapsed": true
   },
   "outputs": [],
   "source": [
    "from statsmodels.formula.api import ols\n",
    "model = ols('EbertStars ~ runtime + G + NR + PG + PG_13 + R', data=train).fit()"
   ]
  },
  {
   "cell_type": "code",
   "execution_count": 158,
   "metadata": {
    "collapsed": false
   },
   "outputs": [
    {
     "data": {
      "image/png": "[encoded data removed]",
      "text/plain": [
       "<matplotlib.figure.Figure at 0x11df90470>"
      ]
     },
     "metadata": {},
     "output_type": "display_data"
    }
   ],
   "source": [
    "fig, ax = plt.subplots(figsize=(12, 8))\n",
    "fig = sm.graphics.plot_fit(model, \"runtime\", ax=ax)"
   ]
  },
  {
   "cell_type": "markdown",
   "metadata": {},
   "source": [
    "# Conclusions, Lessons Learned and Further Research"
   ]
  },
  {
   "cell_type": "code",
   "execution_count": null,
   "metadata": {
    "collapsed": true
   },
   "outputs": [],
   "source": []
  }
 ],
 "metadata": {
  "anaconda-cloud": {},
  "kernelspec": {
   "display_name": "Python [default]",
   "language": "python",
   "name": "python3"
  },
  "language_info": {
   "codemirror_mode": {
    "name": "ipython",
    "version": 3
   },
   "file_extension": ".py",
   "mimetype": "text/x-python",
   "name": "python",
   "nbconvert_exporter": "python",
   "pygments_lexer": "ipython3",
   "version": "3.5.2"
  }
 },
 "nbformat": 4,
 "nbformat_minor": 1
}
